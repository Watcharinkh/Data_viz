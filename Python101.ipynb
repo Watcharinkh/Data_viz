{
  "nbformat": 4,
  "nbformat_minor": 0,
  "metadata": {
    "colab": {
      "name": "Python101.ipynb",
      "provenance": [],
      "authorship_tag": "ABX9TyPkEnEW7z/xnmSZ4BWLksFf",
      "include_colab_link": true
    },
    "kernelspec": {
      "name": "python3",
      "display_name": "Python 3"
    }
  },
  "cells": [
    {
      "cell_type": "markdown",
      "metadata": {
        "id": "view-in-github",
        "colab_type": "text"
      },
      "source": [
        "<a href=\"https://colab.research.google.com/github/Watcharinkh/Data_viz/blob/main/Python101.ipynb\" target=\"_parent\"><img src=\"https://colab.research.google.com/assets/colab-badge.svg\" alt=\"Open In Colab\"/></a>"
      ]
    },
    {
      "cell_type": "code",
      "metadata": {
        "colab": {
          "base_uri": "https://localhost:8080/"
        },
        "id": "EI3Ih7rwMyjQ",
        "outputId": "919fe59d-ada9-42fa-a752-e285cb034e98"
      },
      "source": [
        "3.14159265359"
      ],
      "execution_count": 1,
      "outputs": [
        {
          "output_type": "execute_result",
          "data": {
            "text/plain": [
              "3.14159265359"
            ]
          },
          "metadata": {
            "tags": []
          },
          "execution_count": 1
        }
      ]
    },
    {
      "cell_type": "markdown",
      "metadata": {
        "id": "ogx8jma9NvW8"
      },
      "source": [
        "หลักการตั้งชื่อตัวเเปร\r\n",
        "\r\n",
        "1. ตั้งให้สื่อ\r\n",
        "2. ภาาาอังกฤษ\r\n",
        "3. ใช้ตัวเลขได้เเต่ห้ามขึ้นต้นด้วยตัวเลข\r\n",
        "4. ห้ามเว้นวรรค"
      ]
    },
    {
      "cell_type": "code",
      "metadata": {
        "id": "5buEVAcdNb-M"
      },
      "source": [
        "pi = 3.14159265359"
      ],
      "execution_count": null,
      "outputs": []
    },
    {
      "cell_type": "code",
      "metadata": {
        "colab": {
          "base_uri": "https://localhost:8080/",
          "height": 163
        },
        "id": "TAwk-AXfOqmK",
        "outputId": "98fbe4be-83a5-4512-8749-539ec3ae6882"
      },
      "source": [
        "pi"
      ],
      "execution_count": 40,
      "outputs": [
        {
          "output_type": "error",
          "ename": "NameError",
          "evalue": "ignored",
          "traceback": [
            "\u001b[0;31m---------------------------------------------------------------------------\u001b[0m",
            "\u001b[0;31mNameError\u001b[0m                                 Traceback (most recent call last)",
            "\u001b[0;32m<ipython-input-40-f84ab820532c>\u001b[0m in \u001b[0;36m<module>\u001b[0;34m()\u001b[0m\n\u001b[0;32m----> 1\u001b[0;31m \u001b[0mpi\u001b[0m\u001b[0;34m\u001b[0m\u001b[0;34m\u001b[0m\u001b[0m\n\u001b[0m",
            "\u001b[0;31mNameError\u001b[0m: name 'pi' is not defined"
          ]
        }
      ]
    },
    {
      "cell_type": "markdown",
      "metadata": {
        "id": "P2S0LCGEO1_t"
      },
      "source": [
        "int : จำนวนเต็ม"
      ]
    },
    {
      "cell_type": "markdown",
      "metadata": {
        "id": "1rUpi1l3Pn7A"
      },
      "source": [
        ""
      ]
    },
    {
      "cell_type": "code",
      "metadata": {
        "id": "rww7ZDbyOrmR"
      },
      "source": [
        "a = 10"
      ],
      "execution_count": 17,
      "outputs": []
    },
    {
      "cell_type": "code",
      "metadata": {
        "colab": {
          "base_uri": "https://localhost:8080/"
        },
        "id": "3hELZgzMPBFD",
        "outputId": "81e18fc1-d44c-4fa7-aba0-3f36e5a21720"
      },
      "source": [
        "print(a)"
      ],
      "execution_count": 31,
      "outputs": [
        {
          "output_type": "stream",
          "text": [
            "10\n"
          ],
          "name": "stdout"
        }
      ]
    },
    {
      "cell_type": "markdown",
      "metadata": {
        "id": "owmECkvxPLhD"
      },
      "source": [
        "float : จำนวนจริง(ทศนิยม)"
      ]
    },
    {
      "cell_type": "code",
      "metadata": {
        "colab": {
          "base_uri": "https://localhost:8080/"
        },
        "id": "Rkl7FDgxPEZP",
        "outputId": "84131ced-33b7-4f19-d934-2ad5b68a7ebd"
      },
      "source": [
        "b = 10.\r\n",
        "print(b)"
      ],
      "execution_count": 6,
      "outputs": [
        {
          "output_type": "stream",
          "text": [
            "10.0\n"
          ],
          "name": "stdout"
        }
      ]
    },
    {
      "cell_type": "markdown",
      "metadata": {
        "id": "obisP2uIPtep"
      },
      "source": [
        "char : ข้อความหรืออักษร"
      ]
    },
    {
      "cell_type": "markdown",
      "metadata": {
        "id": "_O5Jm0TMP7BN"
      },
      "source": [
        "-> # hashtag, sharp ใช้สำหรับคอมเม้น"
      ]
    },
    {
      "cell_type": "code",
      "metadata": {
        "colab": {
          "base_uri": "https://localhost:8080/"
        },
        "id": "Dq_6nJkWPloG",
        "outputId": "ee45bd97-fde2-4d9a-dacb-5fdf36531503"
      },
      "source": [
        "c = 'วัชรินทร์'    #เราจะบอกว่าตัวเเปรเป็นตัวอักษรหรือข้อความโดยกาารใช้ sigle quote หรือ double quote ล้อมรอบ\r\n",
        "print(c)"
      ],
      "execution_count": 9,
      "outputs": [
        {
          "output_type": "stream",
          "text": [
            "วัชรินทร์\n"
          ],
          "name": "stdout"
        }
      ]
    },
    {
      "cell_type": "markdown",
      "metadata": {
        "id": "1U9EAJJQRN4-"
      },
      "source": [
        "ตัวเลขที่เป็น string ไม่สามารถเอา + - x / กับตัวเลขได้"
      ]
    },
    {
      "cell_type": "code",
      "metadata": {
        "colab": {
          "base_uri": "https://localhost:8080/"
        },
        "id": "88v51lPmP3Wk",
        "outputId": "99d4913c-d99b-47b7-c28b-6bb80d7f115e"
      },
      "source": [
        "d = '10'\r\n",
        "print(d)"
      ],
      "execution_count": 11,
      "outputs": [
        {
          "output_type": "stream",
          "text": [
            "10\n"
          ],
          "name": "stdout"
        }
      ]
    },
    {
      "cell_type": "markdown",
      "metadata": {
        "id": "a7dclSsIRw2u"
      },
      "source": [
        "### variable casting (การเปลี่ยนชนิของข้อมูล)\r\n"
      ]
    },
    {
      "cell_type": "code",
      "metadata": {
        "colab": {
          "base_uri": "https://localhost:8080/"
        },
        "id": "DgQ6EtKSRDd3",
        "outputId": "aa3b506d-0414-4c45-b6ae-78bb182909f7"
      },
      "source": [
        "int(d)+1"
      ],
      "execution_count": 16,
      "outputs": [
        {
          "output_type": "execute_result",
          "data": {
            "text/plain": [
              "11"
            ]
          },
          "metadata": {
            "tags": []
          },
          "execution_count": 16
        }
      ]
    },
    {
      "cell_type": "code",
      "metadata": {
        "colab": {
          "base_uri": "https://localhost:8080/"
        },
        "id": "4M2uG9hRSEeJ",
        "outputId": "7b4edc1a-a32d-4081-c60d-40541f0cbcdc"
      },
      "source": [
        "print(a)\r\n",
        "print(float(a))\r\n",
        "print(str(a))"
      ],
      "execution_count": 19,
      "outputs": [
        {
          "output_type": "stream",
          "text": [
            "10\n",
            "10.0\n",
            "10\n"
          ],
          "name": "stdout"
        }
      ]
    },
    {
      "cell_type": "markdown",
      "metadata": {
        "id": "qmb22UzTSwxk"
      },
      "source": [
        "### Operation (operation +,-,*,/,%"
      ]
    },
    {
      "cell_type": "code",
      "metadata": {
        "colab": {
          "base_uri": "https://localhost:8080/"
        },
        "id": "1MWRezyeSupi",
        "outputId": "52ac0330-cd9b-447c-c970-71332ee2347f"
      },
      "source": [
        "a+b"
      ],
      "execution_count": 20,
      "outputs": [
        {
          "output_type": "execute_result",
          "data": {
            "text/plain": [
              "20.0"
            ]
          },
          "metadata": {
            "tags": []
          },
          "execution_count": 20
        }
      ]
    },
    {
      "cell_type": "code",
      "metadata": {
        "colab": {
          "base_uri": "https://localhost:8080/"
        },
        "id": "TkfOhIAjS8vI",
        "outputId": "1cd953ee-7dca-4c6a-e845-47383c9bb229"
      },
      "source": [
        "ab = a+b\r\n",
        "print(ab)"
      ],
      "execution_count": 23,
      "outputs": [
        {
          "output_type": "stream",
          "text": [
            "20.0\n"
          ],
          "name": "stdout"
        }
      ]
    },
    {
      "cell_type": "markdown",
      "metadata": {
        "id": "NXkuKU2fTHlu"
      },
      "source": [
        "### % คือ หมาย modulo เป็นการหารเอาเศษ"
      ]
    },
    {
      "cell_type": "code",
      "metadata": {
        "colab": {
          "base_uri": "https://localhost:8080/"
        },
        "id": "6m1OjxrrTAI6",
        "outputId": "61878a21-8bef-43cf-8577-53d586b03d16"
      },
      "source": [
        "5%3"
      ],
      "execution_count": 24,
      "outputs": [
        {
          "output_type": "execute_result",
          "data": {
            "text/plain": [
              "2"
            ]
          },
          "metadata": {
            "tags": []
          },
          "execution_count": 24
        }
      ]
    },
    {
      "cell_type": "code",
      "metadata": {
        "colab": {
          "base_uri": "https://localhost:8080/"
        },
        "id": "lXZyx1DWTPkh",
        "outputId": "6ca29fe1-1a2e-41ad-9426-5050a19ee4f3"
      },
      "source": [
        "7%2"
      ],
      "execution_count": 25,
      "outputs": [
        {
          "output_type": "execute_result",
          "data": {
            "text/plain": [
              "1"
            ]
          },
          "metadata": {
            "tags": []
          },
          "execution_count": 25
        }
      ]
    },
    {
      "cell_type": "markdown",
      "metadata": {
        "id": "ANXoCwRVTZPi"
      },
      "source": [
        "### คำสั้งปริ้นเเบบพิเศษ(การ format string)"
      ]
    },
    {
      "cell_type": "code",
      "metadata": {
        "colab": {
          "base_uri": "https://localhost:8080/"
        },
        "id": "y8TyaUelTSZ7",
        "outputId": "67b96cc2-ddb1-4d8a-a2dd-be3234bba0ab"
      },
      "source": [
        "print('ตัวเเปร')   #สิ่งที่อยู่ในวงเล็บคือตัวเเปรเเละ string"
      ],
      "execution_count": 26,
      "outputs": [
        {
          "output_type": "stream",
          "text": [
            "ตัวเเปร\n"
          ],
          "name": "stdout"
        }
      ]
    },
    {
      "cell_type": "code",
      "metadata": {
        "colab": {
          "base_uri": "https://localhost:8080/"
        },
        "id": "sYfOP83iT9TO",
        "outputId": "d3f888fb-b3bf-4c7e-e92d-85af1e9d5514"
      },
      "source": [
        "print(f'% คือการหารเอาเศษ เช่น 7%3 = {7%3}') # เพิ่ม f หน้า 'string' เเละใช้ {}ใส่ code"
      ],
      "execution_count": 33,
      "outputs": [
        {
          "output_type": "stream",
          "text": [
            "% คือการหารเอาเศษ เช่น 7%3 = 1\n"
          ],
          "name": "stdout"
        }
      ]
    },
    {
      "cell_type": "code",
      "metadata": {
        "colab": {
          "base_uri": "https://localhost:8080/"
        },
        "id": "qg_PqG2rUM0o",
        "outputId": "7f8527fd-4174-4ebf-cdf5-c8eccab18eb5"
      },
      "source": [
        "print(f'% คือการหารเอาเศษ เช่น 7%3 = {7%3} เเต่ \\n/ คือการหารปกติ เช่น 7/3 = {7/3}') # \\n คือกาารขึ้นบรรทัดใหม่"
      ],
      "execution_count": 45,
      "outputs": [
        {
          "output_type": "stream",
          "text": [
            "% คือการหารเอาเศษ เช่น 7%3 = 1 เเต่ \n",
            "/ คือการหารปกติ เช่น 7/3 = 2.3333333333333335\n"
          ],
          "name": "stdout"
        }
      ]
    },
    {
      "cell_type": "code",
      "metadata": {
        "colab": {
          "base_uri": "https://localhost:8080/"
        },
        "id": "BHh3ZUfVVY5c",
        "outputId": "ea53b326-0063-455e-c776-040280b0aca7"
      },
      "source": [
        "print(f'/ คือการหาเอาส่วน เช่น \\n 11//5 = {11//5} หรือ\\n 12//6 = {12//6} เป็นต้น ')"
      ],
      "execution_count": 43,
      "outputs": [
        {
          "output_type": "stream",
          "text": [
            "/ คือการหาเอาส่วน เช่น \n",
            " 11//5 = 2 หรือ\n",
            " 12//6 = 2 เป็นต้น \n"
          ],
          "name": "stdout"
        }
      ]
    },
    {
      "cell_type": "code",
      "metadata": {
        "colab": {
          "base_uri": "https://localhost:8080/"
        },
        "id": "P-aom2l9V9qZ",
        "outputId": "35cb0223-50be-4d3c-8380-22ab7e6e7ac9"
      },
      "source": [
        "print(f'% คือการหารเอาเศษ เช่น 7%3 = {7%3} \\\\\r\n",
        " เเต่ \\n/ คือการหารปกติ เช่น 7/3 = {7/3} \\\\\r\n",
        " เเละ \\n// คือ การหารเอาส่วน เช่น 7//3 = {7//3} \\\\\r\n",
        " หรือ \\n ใช้ int เพื่อหารเอาส่วน เช่น int(7/3) = {int(7/3)}') # \\n คือการขึ้นบรรทัดใหม่ \\\\ ใช้ในการตัด code เเตา คอม จะไม่เห็น"
      ],
      "execution_count": 49,
      "outputs": [
        {
          "output_type": "stream",
          "text": [
            "% คือการหารเอาเศษ เช่น 7%3 = 1 \\ เเต่ \n",
            "/ คือการหารปกติ เช่น 7/3 = 2.3333333333333335 \\ เเละ \n",
            "// คือ การหารเอาส่วน เช่น 7//3 = 2 \\ หรือ \n",
            " ใช้ int เพื่อหารเอาส่วน เช่น int(7/3) = 2\n"
          ],
          "name": "stdout"
        }
      ]
    },
    {
      "cell_type": "markdown",
      "metadata": {
        "id": "qWGQcW2_bGOj"
      },
      "source": [
        "### Data Structure "
      ]
    },
    {
      "cell_type": "markdown",
      "metadata": {
        "id": "3ZoRAMj4bMUz"
      },
      "source": [
        "####เเบบที่ 1"
      ]
    },
    {
      "cell_type": "code",
      "metadata": {
        "colab": {
          "base_uri": "https://localhost:8080/"
        },
        "id": "3x6tbc4oZoJY",
        "outputId": "0743895f-eea9-48d9-d10d-9e7ec00b7180"
      },
      "source": [
        "list_a = []\r\n",
        "print(list_a)"
      ],
      "execution_count": 57,
      "outputs": [
        {
          "output_type": "stream",
          "text": [
            "[]\n"
          ],
          "name": "stdout"
        }
      ]
    },
    {
      "cell_type": "code",
      "metadata": {
        "colab": {
          "base_uri": "https://localhost:8080/"
        },
        "id": "g-MKJL2GbbKE",
        "outputId": "6428d507-085f-4ce7-ffd7-35eb16fbf68e"
      },
      "source": [
        "list_b = [1,5,'v']\r\n",
        "print(list_b)"
      ],
      "execution_count": 50,
      "outputs": [
        {
          "output_type": "stream",
          "text": [
            "[1, 5, 'v']\n"
          ],
          "name": "stdout"
        }
      ]
    },
    {
      "cell_type": "markdown",
      "metadata": {
        "id": "yt2HfavWbojS"
      },
      "source": [
        "### บำดับที่อยู่ใน list มีความสำคัญ (ลำดับใน list เริ่มจาก 0,1,2,..)"
      ]
    },
    {
      "cell_type": "code",
      "metadata": {
        "colab": {
          "base_uri": "https://localhost:8080/"
        },
        "id": "bFVcO8ZZbnNx",
        "outputId": "53b3380c-80ec-45ba-fc46-8137e35764c7"
      },
      "source": [
        "list_b[1]"
      ],
      "execution_count": 53,
      "outputs": [
        {
          "output_type": "execute_result",
          "data": {
            "text/plain": [
              "5"
            ]
          },
          "metadata": {
            "tags": []
          },
          "execution_count": 53
        }
      ]
    },
    {
      "cell_type": "markdown",
      "metadata": {
        "id": "fIt4X5M-b9Of"
      },
      "source": [
        "### เเบบที่ 2"
      ]
    },
    {
      "cell_type": "code",
      "metadata": {
        "colab": {
          "base_uri": "https://localhost:8080/"
        },
        "id": "kjdgP_n7b85h",
        "outputId": "5fcb44b2-7535-429d-e19a-8a32051e01ee"
      },
      "source": [
        "list_c = list()\r\n",
        "print(list_c)"
      ],
      "execution_count": 55,
      "outputs": [
        {
          "output_type": "stream",
          "text": [
            "[]\n"
          ],
          "name": "stdout"
        }
      ]
    },
    {
      "cell_type": "code",
      "metadata": {
        "id": "DIvOlbxbcYxi"
      },
      "source": [
        ""
      ],
      "execution_count": null,
      "outputs": []
    }
  ]
}