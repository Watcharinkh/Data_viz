{
  "nbformat": 4,
  "nbformat_minor": 0,
  "metadata": {
    "colab": {
      "name": "Python101.ipynb",
      "provenance": [],
      "include_colab_link": true
    },
    "kernelspec": {
      "name": "python3",
      "display_name": "Python 3"
    }
  },
  "cells": [
    {
      "cell_type": "markdown",
      "metadata": {
        "id": "view-in-github",
        "colab_type": "text"
      },
      "source": [
        "<a href=\"https://colab.research.google.com/github/Watcharinkh/Data_viz/blob/main/Python101.ipynb\" target=\"_parent\"><img src=\"https://colab.research.google.com/assets/colab-badge.svg\" alt=\"Open In Colab\"/></a>"
      ]
    },
    {
      "cell_type": "code",
      "metadata": {
        "colab": {
          "base_uri": "https://localhost:8080/"
        },
        "id": "EI3Ih7rwMyjQ",
        "outputId": "919fe59d-ada9-42fa-a752-e285cb034e98"
      },
      "source": [
        "3.14159265359"
      ],
      "execution_count": null,
      "outputs": [
        {
          "output_type": "execute_result",
          "data": {
            "text/plain": [
              "3.14159265359"
            ]
          },
          "metadata": {
            "tags": []
          },
          "execution_count": 1
        }
      ]
    },
    {
      "cell_type": "markdown",
      "metadata": {
        "id": "ogx8jma9NvW8"
      },
      "source": [
        "หลักการตั้งชื่อตัวเเปร\r\n",
        "\r\n",
        "1. ตั้งให้สื่อ\r\n",
        "2. ภาษาอังกฤษ\r\n",
        "3. ใช้ตัวเลขได้เเต่ห้ามขึ้นต้นด้วยตัวเลข\r\n",
        "4. ห้ามเว้นวรรค"
      ]
    },
    {
      "cell_type": "code",
      "metadata": {
        "id": "5buEVAcdNb-M",
        "colab": {
          "base_uri": "https://localhost:8080/"
        },
        "outputId": "aeae3489-45ad-4e64-92dd-df093c00dc0e"
      },
      "source": [
        "pi = 3.14159265359\r\n",
        "print(pi)"
      ],
      "execution_count": null,
      "outputs": [
        {
          "output_type": "stream",
          "text": [
            "3.14159265359\n"
          ],
          "name": "stdout"
        }
      ]
    },
    {
      "cell_type": "markdown",
      "metadata": {
        "id": "P2S0LCGEO1_t"
      },
      "source": [
        "###int : จำนวนเต็ม"
      ]
    },
    {
      "cell_type": "code",
      "metadata": {
        "id": "rww7ZDbyOrmR"
      },
      "source": [
        "a = 10"
      ],
      "execution_count": null,
      "outputs": []
    },
    {
      "cell_type": "code",
      "metadata": {
        "colab": {
          "base_uri": "https://localhost:8080/"
        },
        "id": "3hELZgzMPBFD",
        "outputId": "81e18fc1-d44c-4fa7-aba0-3f36e5a21720"
      },
      "source": [
        "print(a)"
      ],
      "execution_count": null,
      "outputs": [
        {
          "output_type": "stream",
          "text": [
            "10\n"
          ],
          "name": "stdout"
        }
      ]
    },
    {
      "cell_type": "markdown",
      "metadata": {
        "id": "owmECkvxPLhD"
      },
      "source": [
        "float : จำนวนจริง(ทศนิยม)"
      ]
    },
    {
      "cell_type": "code",
      "metadata": {
        "colab": {
          "base_uri": "https://localhost:8080/"
        },
        "id": "Rkl7FDgxPEZP",
        "outputId": "84131ced-33b7-4f19-d934-2ad5b68a7ebd"
      },
      "source": [
        "b = 10.\r\n",
        "print(b)"
      ],
      "execution_count": null,
      "outputs": [
        {
          "output_type": "stream",
          "text": [
            "10.0\n"
          ],
          "name": "stdout"
        }
      ]
    },
    {
      "cell_type": "markdown",
      "metadata": {
        "id": "obisP2uIPtep"
      },
      "source": [
        "char : ข้อความหรืออักษร"
      ]
    },
    {
      "cell_type": "markdown",
      "metadata": {
        "id": "_O5Jm0TMP7BN"
      },
      "source": [
        "-> # hashtag, sharp ใช้สำหรับคอมเม้น"
      ]
    },
    {
      "cell_type": "code",
      "metadata": {
        "colab": {
          "base_uri": "https://localhost:8080/"
        },
        "id": "Dq_6nJkWPloG",
        "outputId": "ee45bd97-fde2-4d9a-dacb-5fdf36531503"
      },
      "source": [
        "c = 'วัชรินทร์'    #เราจะบอกว่าตัวเเปรเป็นตัวอักษรหรือข้อความโดยกาารใช้ sigle quote หรือ double quote ล้อมรอบ\r\n",
        "print(c)"
      ],
      "execution_count": null,
      "outputs": [
        {
          "output_type": "stream",
          "text": [
            "วัชรินทร์\n"
          ],
          "name": "stdout"
        }
      ]
    },
    {
      "cell_type": "markdown",
      "metadata": {
        "id": "1U9EAJJQRN4-"
      },
      "source": [
        "ตัวเลขที่เป็น string ไม่สามารถเอา + - x / กับตัวเลขได้"
      ]
    },
    {
      "cell_type": "code",
      "metadata": {
        "colab": {
          "base_uri": "https://localhost:8080/"
        },
        "id": "88v51lPmP3Wk",
        "outputId": "99d4913c-d99b-47b7-c28b-6bb80d7f115e"
      },
      "source": [
        "d = '10'\r\n",
        "print(d)"
      ],
      "execution_count": null,
      "outputs": [
        {
          "output_type": "stream",
          "text": [
            "10\n"
          ],
          "name": "stdout"
        }
      ]
    },
    {
      "cell_type": "markdown",
      "metadata": {
        "id": "a7dclSsIRw2u"
      },
      "source": [
        "### variable casting (การเปลี่ยนชนิดของข้อมูล)\r\n"
      ]
    },
    {
      "cell_type": "code",
      "metadata": {
        "colab": {
          "base_uri": "https://localhost:8080/"
        },
        "id": "DgQ6EtKSRDd3",
        "outputId": "aa3b506d-0414-4c45-b6ae-78bb182909f7"
      },
      "source": [
        "int(d)+1"
      ],
      "execution_count": null,
      "outputs": [
        {
          "output_type": "execute_result",
          "data": {
            "text/plain": [
              "11"
            ]
          },
          "metadata": {
            "tags": []
          },
          "execution_count": 16
        }
      ]
    },
    {
      "cell_type": "code",
      "metadata": {
        "colab": {
          "base_uri": "https://localhost:8080/"
        },
        "id": "4M2uG9hRSEeJ",
        "outputId": "7b4edc1a-a32d-4081-c60d-40541f0cbcdc"
      },
      "source": [
        "print(a)\r\n",
        "print(float(a))\r\n",
        "print(str(a))"
      ],
      "execution_count": null,
      "outputs": [
        {
          "output_type": "stream",
          "text": [
            "10\n",
            "10.0\n",
            "10\n"
          ],
          "name": "stdout"
        }
      ]
    },
    {
      "cell_type": "markdown",
      "metadata": {
        "id": "qmb22UzTSwxk"
      },
      "source": [
        "### Operation (operation +,-,*,/,%"
      ]
    },
    {
      "cell_type": "code",
      "metadata": {
        "colab": {
          "base_uri": "https://localhost:8080/"
        },
        "id": "1MWRezyeSupi",
        "outputId": "52ac0330-cd9b-447c-c970-71332ee2347f"
      },
      "source": [
        "a+b"
      ],
      "execution_count": null,
      "outputs": [
        {
          "output_type": "execute_result",
          "data": {
            "text/plain": [
              "20.0"
            ]
          },
          "metadata": {
            "tags": []
          },
          "execution_count": 20
        }
      ]
    },
    {
      "cell_type": "code",
      "metadata": {
        "colab": {
          "base_uri": "https://localhost:8080/"
        },
        "id": "TkfOhIAjS8vI",
        "outputId": "1cd953ee-7dca-4c6a-e845-47383c9bb229"
      },
      "source": [
        "ab = a+b\r\n",
        "print(ab)"
      ],
      "execution_count": null,
      "outputs": [
        {
          "output_type": "stream",
          "text": [
            "20.0\n"
          ],
          "name": "stdout"
        }
      ]
    },
    {
      "cell_type": "markdown",
      "metadata": {
        "id": "NXkuKU2fTHlu"
      },
      "source": [
        "### % คือ หมาย modulo เป็นการหารเอาเศษ"
      ]
    },
    {
      "cell_type": "code",
      "metadata": {
        "colab": {
          "base_uri": "https://localhost:8080/"
        },
        "id": "6m1OjxrrTAI6",
        "outputId": "61878a21-8bef-43cf-8577-53d586b03d16"
      },
      "source": [
        "5%3"
      ],
      "execution_count": null,
      "outputs": [
        {
          "output_type": "execute_result",
          "data": {
            "text/plain": [
              "2"
            ]
          },
          "metadata": {
            "tags": []
          },
          "execution_count": 24
        }
      ]
    },
    {
      "cell_type": "code",
      "metadata": {
        "colab": {
          "base_uri": "https://localhost:8080/"
        },
        "id": "lXZyx1DWTPkh",
        "outputId": "6ca29fe1-1a2e-41ad-9426-5050a19ee4f3"
      },
      "source": [
        "7%2"
      ],
      "execution_count": null,
      "outputs": [
        {
          "output_type": "execute_result",
          "data": {
            "text/plain": [
              "1"
            ]
          },
          "metadata": {
            "tags": []
          },
          "execution_count": 25
        }
      ]
    },
    {
      "cell_type": "markdown",
      "metadata": {
        "id": "1PkxsnbF5qej"
      },
      "source": [
        "### // คือ การหาเอาส่วน"
      ]
    },
    {
      "cell_type": "code",
      "metadata": {
        "id": "56HEbHsV5yDy",
        "colab": {
          "base_uri": "https://localhost:8080/"
        },
        "outputId": "f2359816-b5f7-4400-dc7b-cbae4133710a"
      },
      "source": [
        "11//5"
      ],
      "execution_count": null,
      "outputs": [
        {
          "output_type": "execute_result",
          "data": {
            "text/plain": [
              "2"
            ]
          },
          "metadata": {
            "tags": []
          },
          "execution_count": 8
        }
      ]
    },
    {
      "cell_type": "markdown",
      "metadata": {
        "id": "ANXoCwRVTZPi"
      },
      "source": [
        "### คำสั้งปริ้นเเบบพิเศษ(การ format string)"
      ]
    },
    {
      "cell_type": "code",
      "metadata": {
        "colab": {
          "base_uri": "https://localhost:8080/"
        },
        "id": "y8TyaUelTSZ7",
        "outputId": "67b96cc2-ddb1-4d8a-a2dd-be3234bba0ab"
      },
      "source": [
        "print('ตัวเเปร')   #สิ่งที่อยู่ในวงเล็บคือตัวเเปรเเละ string"
      ],
      "execution_count": null,
      "outputs": [
        {
          "output_type": "stream",
          "text": [
            "ตัวเเปร\n"
          ],
          "name": "stdout"
        }
      ]
    },
    {
      "cell_type": "code",
      "metadata": {
        "colab": {
          "base_uri": "https://localhost:8080/"
        },
        "id": "sYfOP83iT9TO",
        "outputId": "d3f888fb-b3bf-4c7e-e92d-85af1e9d5514"
      },
      "source": [
        "print(f'% คือการหารเอาเศษ เช่น 7%3 = {7%3}') # เพิ่ม f หน้า 'string' เเละใช้ {}ใส่ code"
      ],
      "execution_count": null,
      "outputs": [
        {
          "output_type": "stream",
          "text": [
            "% คือการหารเอาเศษ เช่น 7%3 = 1\n"
          ],
          "name": "stdout"
        }
      ]
    },
    {
      "cell_type": "code",
      "metadata": {
        "colab": {
          "base_uri": "https://localhost:8080/"
        },
        "id": "qg_PqG2rUM0o",
        "outputId": "7f8527fd-4174-4ebf-cdf5-c8eccab18eb5"
      },
      "source": [
        "print(f'% คือการหารเอาเศษ เช่น 7%3 = {7%3} เเต่ \\n/ คือการหารปกติ เช่น 7/3 = {7/3}') # \\n คือกาารขึ้นบรรทัดใหม่"
      ],
      "execution_count": null,
      "outputs": [
        {
          "output_type": "stream",
          "text": [
            "% คือการหารเอาเศษ เช่น 7%3 = 1 เเต่ \n",
            "/ คือการหารปกติ เช่น 7/3 = 2.3333333333333335\n"
          ],
          "name": "stdout"
        }
      ]
    },
    {
      "cell_type": "code",
      "metadata": {
        "colab": {
          "base_uri": "https://localhost:8080/"
        },
        "id": "BHh3ZUfVVY5c",
        "outputId": "ea53b326-0063-455e-c776-040280b0aca7"
      },
      "source": [
        "print(f'/ คือการหาเอาส่วน เช่น \\n 11//5 = {11//5} หรือ\\n 12//6 = {12//6} เป็นต้น ')"
      ],
      "execution_count": null,
      "outputs": [
        {
          "output_type": "stream",
          "text": [
            "/ คือการหาเอาส่วน เช่น \n",
            " 11//5 = 2 หรือ\n",
            " 12//6 = 2 เป็นต้น \n"
          ],
          "name": "stdout"
        }
      ]
    },
    {
      "cell_type": "code",
      "metadata": {
        "colab": {
          "base_uri": "https://localhost:8080/"
        },
        "id": "P-aom2l9V9qZ",
        "outputId": "35cb0223-50be-4d3c-8380-22ab7e6e7ac9"
      },
      "source": [
        "print(f'% คือการหารเอาเศษ เช่น 7%3 = {7%3} \\\\\r\n",
        " เเต่ \\n/ คือการหารปกติ เช่น 7/3 = {7/3} \\\\\r\n",
        " เเละ \\n// คือ การหารเอาส่วน เช่น 7//3 = {7//3} \\\\\r\n",
        " หรือ \\n ใช้ int เพื่อหารเอาส่วน เช่น int(7/3) = {int(7/3)}') # \\n คือการขึ้นบรรทัดใหม่ \\\\ ใช้ในการตัด code เเตา คอม จะไม่เห็น"
      ],
      "execution_count": null,
      "outputs": [
        {
          "output_type": "stream",
          "text": [
            "% คือการหารเอาเศษ เช่น 7%3 = 1 \\ เเต่ \n",
            "/ คือการหารปกติ เช่น 7/3 = 2.3333333333333335 \\ เเละ \n",
            "// คือ การหารเอาส่วน เช่น 7//3 = 2 \\ หรือ \n",
            " ใช้ int เพื่อหารเอาส่วน เช่น int(7/3) = 2\n"
          ],
          "name": "stdout"
        }
      ]
    },
    {
      "cell_type": "markdown",
      "metadata": {
        "id": "qWGQcW2_bGOj"
      },
      "source": [
        "### Data Structure (โครงสร้างข้อมูล)\r\n",
        "\r\n",
        "List คือ การเอาตัวแปรหลายๆตัวมาเรียงกัน : เป็นได้ทั้งตัวเลขและอักขระ\r\n",
        "\r\n",
        "list สามารถสร้างได้ 2 แบบ ดังนี้"
      ]
    },
    {
      "cell_type": "markdown",
      "metadata": {
        "id": "3ZoRAMj4bMUz"
      },
      "source": [
        "####เเบบที่ 1"
      ]
    },
    {
      "cell_type": "code",
      "metadata": {
        "colab": {
          "base_uri": "https://localhost:8080/"
        },
        "id": "3x6tbc4oZoJY",
        "outputId": "a6a58df1-e06c-4dec-9648-ce14a1259870"
      },
      "source": [
        "list_a = []\r\n",
        "print(list_a)"
      ],
      "execution_count": null,
      "outputs": [
        {
          "output_type": "stream",
          "text": [
            "[]\n"
          ],
          "name": "stdout"
        }
      ]
    },
    {
      "cell_type": "code",
      "metadata": {
        "colab": {
          "base_uri": "https://localhost:8080/"
        },
        "id": "g-MKJL2GbbKE",
        "outputId": "6bf19c44-970b-4766-ff99-6420422d16a4"
      },
      "source": [
        "list_b = [1,5,'v']\r\n",
        "print(list_b)"
      ],
      "execution_count": null,
      "outputs": [
        {
          "output_type": "stream",
          "text": [
            "[1, 5, 'v']\n"
          ],
          "name": "stdout"
        }
      ]
    },
    {
      "cell_type": "markdown",
      "metadata": {
        "id": "yt2HfavWbojS"
      },
      "source": [
        "### บำดับที่อยู่ใน list มีความสำคัญ (ลำดับใน list เริ่มจาก 0,1,2,..)"
      ]
    },
    {
      "cell_type": "code",
      "metadata": {
        "colab": {
          "base_uri": "https://localhost:8080/"
        },
        "id": "bFVcO8ZZbnNx",
        "outputId": "8381d366-295e-4de9-9555-eaf69fe80774"
      },
      "source": [
        "list_b[1]"
      ],
      "execution_count": null,
      "outputs": [
        {
          "output_type": "execute_result",
          "data": {
            "text/plain": [
              "5"
            ]
          },
          "metadata": {
            "tags": []
          },
          "execution_count": 16
        }
      ]
    },
    {
      "cell_type": "markdown",
      "metadata": {
        "id": "fIt4X5M-b9Of"
      },
      "source": [
        "### เเบบที่ 2"
      ]
    },
    {
      "cell_type": "code",
      "metadata": {
        "colab": {
          "base_uri": "https://localhost:8080/"
        },
        "id": "kjdgP_n7b85h",
        "outputId": "8324f03c-7a1f-4e1c-bf32-5b591382d563"
      },
      "source": [
        "list_c = list()\r\n",
        "print(list_c)"
      ],
      "execution_count": null,
      "outputs": [
        {
          "output_type": "stream",
          "text": [
            "[]\n"
          ],
          "name": "stdout"
        }
      ]
    },
    {
      "cell_type": "markdown",
      "metadata": {
        "id": "JtMC66PbAbjs"
      },
      "source": [
        "append() เพิ่มสมาชิกใน list"
      ]
    },
    {
      "cell_type": "code",
      "metadata": {
        "id": "DIvOlbxbcYxi",
        "colab": {
          "base_uri": "https://localhost:8080/"
        },
        "outputId": "84b1f10a-83ca-416c-c831-5d791e883e42"
      },
      "source": [
        "list_b.append('u')\r\n",
        "print(list_b)"
      ],
      "execution_count": null,
      "outputs": [
        {
          "output_type": "stream",
          "text": [
            "[1, 5, 'v', 'u']\n"
          ],
          "name": "stdout"
        }
      ]
    },
    {
      "cell_type": "code",
      "metadata": {
        "colab": {
          "base_uri": "https://localhost:8080/",
          "height": 35
        },
        "id": "CdFjQXy1Az5a",
        "outputId": "db061654-6d83-430a-9152-221c5b85733d"
      },
      "source": [
        "list_b.pop() # ดึงสมาชิกสุดท้ายออกจาก list"
      ],
      "execution_count": null,
      "outputs": [
        {
          "output_type": "execute_result",
          "data": {
            "application/vnd.google.colaboratory.intrinsic+json": {
              "type": "string"
            },
            "text/plain": [
              "'u'"
            ]
          },
          "metadata": {
            "tags": []
          },
          "execution_count": 20
        }
      ]
    },
    {
      "cell_type": "code",
      "metadata": {
        "colab": {
          "base_uri": "https://localhost:8080/"
        },
        "id": "2Mkuw1k9A2x8",
        "outputId": "fefe7ac0-dd38-40b9-d96d-0b14e0ea7a0d"
      },
      "source": [
        "list_b"
      ],
      "execution_count": null,
      "outputs": [
        {
          "output_type": "execute_result",
          "data": {
            "text/plain": [
              "[1, 5, 'v']"
            ]
          },
          "metadata": {
            "tags": []
          },
          "execution_count": 21
        }
      ]
    },
    {
      "cell_type": "code",
      "metadata": {
        "colab": {
          "base_uri": "https://localhost:8080/"
        },
        "id": "7H-aAfDSA3W2",
        "outputId": "3f2d968a-5493-4e6e-e9c1-166463a70c0e"
      },
      "source": [
        "list_b.append(list_a)\r\n",
        "print(list_b)"
      ],
      "execution_count": null,
      "outputs": [
        {
          "output_type": "stream",
          "text": [
            "[1, 5, 'v', []]\n"
          ],
          "name": "stdout"
        }
      ]
    },
    {
      "cell_type": "markdown",
      "metadata": {
        "id": "t9-Ol4TBCOGD"
      },
      "source": [
        "### string > list of charactors"
      ]
    },
    {
      "cell_type": "code",
      "metadata": {
        "colab": {
          "base_uri": "https://localhost:8080/",
          "height": 35
        },
        "id": "kT4QOMEMCLcL",
        "outputId": "9572094c-f375-4e8c-8429-3f749e8aa539"
      },
      "source": [
        "t = 'python is easy'\r\n",
        "t"
      ],
      "execution_count": null,
      "outputs": [
        {
          "output_type": "execute_result",
          "data": {
            "application/vnd.google.colaboratory.intrinsic+json": {
              "type": "string"
            },
            "text/plain": [
              "'python is easy'"
            ]
          },
          "metadata": {
            "tags": []
          },
          "execution_count": 30
        }
      ]
    },
    {
      "cell_type": "code",
      "metadata": {
        "colab": {
          "base_uri": "https://localhost:8080/"
        },
        "id": "9MYS7UXAChUJ",
        "outputId": "0fbeadc0-a8d2-4932-cdbd-fae00c9cd35c"
      },
      "source": [
        "len(list_c) # len คือคำสั่งตรวจสอบความยาวของ list (จำนวนสมมาชิก)"
      ],
      "execution_count": null,
      "outputs": [
        {
          "output_type": "execute_result",
          "data": {
            "text/plain": [
              "0"
            ]
          },
          "metadata": {
            "tags": []
          },
          "execution_count": 31
        }
      ]
    },
    {
      "cell_type": "code",
      "metadata": {
        "colab": {
          "base_uri": "https://localhost:8080/"
        },
        "id": "JHhnTEGqCzht",
        "outputId": "60db4e31-304c-4552-d6c3-3369a5d06633"
      },
      "source": [
        "len(t)"
      ],
      "execution_count": null,
      "outputs": [
        {
          "output_type": "execute_result",
          "data": {
            "text/plain": [
              "14"
            ]
          },
          "metadata": {
            "tags": []
          },
          "execution_count": 32
        }
      ]
    },
    {
      "cell_type": "markdown",
      "metadata": {
        "id": "ZFyF0kqDC3Q1"
      },
      "source": [
        "### Access a member of a list(list&string)\r\n",
        "\r\n",
        "โดยการเริ่มนับจาก 0\r\n",
        "\r\n",
        "0 คือสมาชิกตัวเเรก\r\n",
        "\r\n",
        "1 คือสมาชิกตัวสุ่ดท้าย"
      ]
    },
    {
      "cell_type": "code",
      "metadata": {
        "colab": {
          "base_uri": "https://localhost:8080/",
          "height": 35
        },
        "id": "X4A6V2EFDVka",
        "outputId": "a5eff2cc-3291-4960-bafc-64d985442d0c"
      },
      "source": [
        "t[1]"
      ],
      "execution_count": null,
      "outputs": [
        {
          "output_type": "execute_result",
          "data": {
            "application/vnd.google.colaboratory.intrinsic+json": {
              "type": "string"
            },
            "text/plain": [
              "'y'"
            ]
          },
          "metadata": {
            "tags": []
          },
          "execution_count": 33
        }
      ]
    },
    {
      "cell_type": "code",
      "metadata": {
        "colab": {
          "base_uri": "https://localhost:8080/",
          "height": 35
        },
        "id": "M9os01MoDVhd",
        "outputId": "e84e2a88-9861-42c7-f8aa-4fcc7142dfaf"
      },
      "source": [
        "t[-1]"
      ],
      "execution_count": null,
      "outputs": [
        {
          "output_type": "execute_result",
          "data": {
            "application/vnd.google.colaboratory.intrinsic+json": {
              "type": "string"
            },
            "text/plain": [
              "'y'"
            ]
          },
          "metadata": {
            "tags": []
          },
          "execution_count": 34
        }
      ]
    },
    {
      "cell_type": "code",
      "metadata": {
        "colab": {
          "base_uri": "https://localhost:8080/",
          "height": 35
        },
        "id": "y_JFCAYZDVYe",
        "outputId": "6f95aa7b-727a-4648-f063-f55782750872"
      },
      "source": [
        "t[-3]"
      ],
      "execution_count": null,
      "outputs": [
        {
          "output_type": "execute_result",
          "data": {
            "application/vnd.google.colaboratory.intrinsic+json": {
              "type": "string"
            },
            "text/plain": [
              "'a'"
            ]
          },
          "metadata": {
            "tags": []
          },
          "execution_count": 35
        }
      ]
    },
    {
      "cell_type": "code",
      "metadata": {
        "colab": {
          "base_uri": "https://localhost:8080/",
          "height": 35
        },
        "id": "JkRrRtQZDVV2",
        "outputId": "76de9153-92fc-411d-cfc3-81a3efdc72a6"
      },
      "source": [
        "t[-4]"
      ],
      "execution_count": null,
      "outputs": [
        {
          "output_type": "execute_result",
          "data": {
            "application/vnd.google.colaboratory.intrinsic+json": {
              "type": "string"
            },
            "text/plain": [
              "'e'"
            ]
          },
          "metadata": {
            "tags": []
          },
          "execution_count": 36
        }
      ]
    },
    {
      "cell_type": "markdown",
      "metadata": {
        "id": "TW-1FBIoDgJa"
      },
      "source": [
        "### ตัวที่อยู่ข้างใน [] เราเรียกว่า index (ตัวชี้)\r\n",
        "\r\n",
        "list slicing สาารถทำได้โดย  conlon(:)\r\n",
        "\r\n",
        "[A:B] -> [a,b)"
      ]
    },
    {
      "cell_type": "code",
      "metadata": {
        "id": "ZQVnxMRsZ3Ia"
      },
      "source": [
        "t = 'python is easy'"
      ],
      "execution_count": 2,
      "outputs": []
    },
    {
      "cell_type": "code",
      "metadata": {
        "colab": {
          "base_uri": "https://localhost:8080/"
        },
        "id": "wvE0VZGsDVP1",
        "outputId": "a77e0be4-cc8c-4894-bc95-e9c3709461d5"
      },
      "source": [
        "print(t)\r\n",
        "print(t[7:9])"
      ],
      "execution_count": 7,
      "outputs": [
        {
          "output_type": "stream",
          "text": [
            "python is easy\n",
            "is\n"
          ],
          "name": "stdout"
        }
      ]
    },
    {
      "cell_type": "markdown",
      "metadata": {
        "id": "38bdNMu0EOYz"
      },
      "source": [
        "*** ถ้าเว้นว่างข้างหน้า : หมายความว่าเริ่มนับตั้งเเต่ตัวเเรก\r\n",
        "\r\n",
        "*** ถ้าเว้นว่างข้างหลัง : หมายความว่านับไปจนถึงวตัวสุดท้าย"
      ]
    },
    {
      "cell_type": "code",
      "metadata": {
        "colab": {
          "base_uri": "https://localhost:8080/"
        },
        "id": "n0zCRz_LDU9W",
        "outputId": "0ecfbaf4-0d1f-414c-bb3e-334563dc8974"
      },
      "source": [
        "print(t)"
      ],
      "execution_count": null,
      "outputs": [
        {
          "output_type": "stream",
          "text": [
            "python is easy\n"
          ],
          "name": "stdout"
        }
      ]
    },
    {
      "cell_type": "code",
      "metadata": {
        "colab": {
          "base_uri": "https://localhost:8080/"
        },
        "id": "al8MiFD_E0f7",
        "outputId": "f16c1f91-c695-4484-db16-9317d6a303d1"
      },
      "source": [
        "print(t[:6])"
      ],
      "execution_count": null,
      "outputs": [
        {
          "output_type": "stream",
          "text": [
            "python\n"
          ],
          "name": "stdout"
        }
      ]
    },
    {
      "cell_type": "code",
      "metadata": {
        "colab": {
          "base_uri": "https://localhost:8080/"
        },
        "id": "cIP3ys6uE0T7",
        "outputId": "11e81ee3-ed2b-49ef-8765-02fbaba80b6a"
      },
      "source": [
        "print(t[10:])\r\n",
        "print(t[-4:])   # ระหว่าง print(t[10:]) ไม่เเตกต่างจาก print(t[-4:]) สามารถใช้อันไหนก็ได้"
      ],
      "execution_count": null,
      "outputs": [
        {
          "output_type": "stream",
          "text": [
            "easy\n",
            "easy\n"
          ],
          "name": "stdout"
        }
      ]
    },
    {
      "cell_type": "code",
      "metadata": {
        "id": "OgBIgsdJatGj",
        "outputId": "e2774d05-4db8-4348-8060-e1ac063c3969",
        "colab": {
          "base_uri": "https://localhost:8080/"
        }
      },
      "source": [
        "print(t[::2]) # : ตัวที่สอง กำหนด step"
      ],
      "execution_count": 14,
      "outputs": [
        {
          "output_type": "stream",
          "text": [
            "pto ses\n"
          ],
          "name": "stdout"
        }
      ]
    },
    {
      "cell_type": "code",
      "metadata": {
        "id": "gT7WsswJbNSe",
        "outputId": "3713c0dc-9d2d-44dc-8d5d-a9aa985a2c75",
        "colab": {
          "base_uri": "https://localhost:8080/"
        }
      },
      "source": [
        "\r\n",
        "print(list(range(10)))\r\n",
        "print(list(range(10))[::2])"
      ],
      "execution_count": 13,
      "outputs": [
        {
          "output_type": "stream",
          "text": [
            "[0, 1, 2, 3, 4, 5, 6, 7, 8, 9]\n",
            "[0, 2, 4, 6, 8]\n"
          ],
          "name": "stdout"
        }
      ]
    },
    {
      "cell_type": "markdown",
      "metadata": {
        "id": "-WomrOOvFfor"
      },
      "source": [
        "list สามารถนำมาต่อกันได้ด้วยเครื่องหมาย + เช่น"
      ]
    },
    {
      "cell_type": "code",
      "metadata": {
        "colab": {
          "base_uri": "https://localhost:8080/",
          "height": 35
        },
        "id": "NhRGscxOE0Rr",
        "outputId": "5d28315d-b296-4d5d-b806-88077f2c4830"
      },
      "source": [
        "t+'??'"
      ],
      "execution_count": null,
      "outputs": [
        {
          "output_type": "execute_result",
          "data": {
            "application/vnd.google.colaboratory.intrinsic+json": {
              "type": "string"
            },
            "text/plain": [
              "'python is easy??'"
            ]
          },
          "metadata": {
            "tags": []
          },
          "execution_count": 43
        }
      ]
    },
    {
      "cell_type": "code",
      "metadata": {
        "colab": {
          "base_uri": "https://localhost:8080/"
        },
        "id": "EJVWepH7E0Oz",
        "outputId": "733971bf-ff09-4d6c-baa4-ff917eec5883"
      },
      "source": [
        "list_b+list_a"
      ],
      "execution_count": null,
      "outputs": [
        {
          "output_type": "execute_result",
          "data": {
            "text/plain": [
              "[1, 5, 'v', []]"
            ]
          },
          "metadata": {
            "tags": []
          },
          "execution_count": 44
        }
      ]
    },
    {
      "cell_type": "code",
      "metadata": {
        "colab": {
          "base_uri": "https://localhost:8080/",
          "height": 163
        },
        "id": "duSMwSjxE0Mr",
        "outputId": "862de06c-ca83-410d-99a4-5771f7096ada"
      },
      "source": [
        "t+list_b #ไมท่สามารถนำเอา list มาต่อกับ string ได้ ***ห้าม"
      ],
      "execution_count": null,
      "outputs": [
        {
          "output_type": "error",
          "ename": "TypeError",
          "evalue": "ignored",
          "traceback": [
            "\u001b[0;31m---------------------------------------------------------------------------\u001b[0m",
            "\u001b[0;31mTypeError\u001b[0m                                 Traceback (most recent call last)",
            "\u001b[0;32m<ipython-input-46-3b1f5b74b3db>\u001b[0m in \u001b[0;36m<module>\u001b[0;34m()\u001b[0m\n\u001b[0;32m----> 1\u001b[0;31m \u001b[0mt\u001b[0m\u001b[0;34m+\u001b[0m\u001b[0mlist_b\u001b[0m \u001b[0;31m#ไมท่สามารถนำเอา list มาต่อกับ string ได้ ***ห้าม\u001b[0m\u001b[0;34m\u001b[0m\u001b[0;34m\u001b[0m\u001b[0m\n\u001b[0m",
            "\u001b[0;31mTypeError\u001b[0m: must be str, not list"
          ]
        }
      ]
    },
    {
      "cell_type": "markdown",
      "metadata": {
        "id": "ShsYjLILGH3X"
      },
      "source": [
        "### Split string \r\n",
        "\r\n",
        "เป็นการเเบ่ง string ตามสัญลักษณ์ที่กำหนดไว้ เช่น"
      ]
    },
    {
      "cell_type": "code",
      "metadata": {
        "colab": {
          "base_uri": "https://localhost:8080/"
        },
        "id": "yGIQ9mDoE0Kz",
        "outputId": "fe439aac-0fbb-4f3c-87b7-72ecdbdae683"
      },
      "source": [
        "t.split(' ')"
      ],
      "execution_count": null,
      "outputs": [
        {
          "output_type": "execute_result",
          "data": {
            "text/plain": [
              "['python', 'is', 'easy']"
            ]
          },
          "metadata": {
            "tags": []
          },
          "execution_count": 47
        }
      ]
    },
    {
      "cell_type": "code",
      "metadata": {
        "colab": {
          "base_uri": "https://localhost:8080/"
        },
        "id": "S_ix9sP3E0Ht",
        "outputId": "ac27ed9a-0914-442a-99ce-f090d560efac"
      },
      "source": [
        "time = '12:30:15'\r\n",
        "time.split(':')"
      ],
      "execution_count": null,
      "outputs": [
        {
          "output_type": "execute_result",
          "data": {
            "text/plain": [
              "['12', '30', '15']"
            ]
          },
          "metadata": {
            "tags": []
          },
          "execution_count": 48
        }
      ]
    },
    {
      "cell_type": "markdown",
      "metadata": {
        "id": "e1JA_oqFHCfd"
      },
      "source": [
        "การรวมเข้าในรูปเเบบเดิม"
      ]
    },
    {
      "cell_type": "code",
      "metadata": {
        "colab": {
          "base_uri": "https://localhost:8080/"
        },
        "id": "vNUAqszKE0Di",
        "outputId": "0a9b41a2-0d80-4ca7-e578-027eb0621121"
      },
      "source": [
        "t_sp = t.split(' ')\r\n",
        "print(t_sp)\r\n",
        "print(' '.join(t_sp))  # ใน '  ' จะเป็นเครื่องหมายอะไรก็ได้"
      ],
      "execution_count": null,
      "outputs": [
        {
          "output_type": "stream",
          "text": [
            "['python', 'is', 'easy']\n",
            "python is easy\n"
          ],
          "name": "stdout"
        }
      ]
    },
    {
      "cell_type": "markdown",
      "metadata": {
        "id": "IGIrOHXZIl0q"
      },
      "source": [
        "**** เพิ่มเติม ****\r\n",
        "\r\n",
        "การเปลี่ยน string เป็น integer เช่น"
      ]
    },
    {
      "cell_type": "code",
      "metadata": {
        "colab": {
          "base_uri": "https://localhost:8080/"
        },
        "id": "B__ATYW8I58s",
        "outputId": "3a297096-74ae-4cca-88d8-ee8f574b4823"
      },
      "source": [
        "'12' # เป็น string\r\n",
        "int('12') # เป็น integer"
      ],
      "execution_count": null,
      "outputs": [
        {
          "output_type": "execute_result",
          "data": {
            "text/plain": [
              "12"
            ]
          },
          "metadata": {
            "tags": []
          },
          "execution_count": 59
        }
      ]
    },
    {
      "cell_type": "markdown",
      "metadata": {
        "id": "xPSbA3-r2ugL"
      },
      "source": [
        " \n",
        "#HW\n",
        " \n",
        " \n",
        " \n",
        " ####คำนวณเวลาเป็นวินาทีของเวลาต่อไปนนี้โดยใช้คำสั่ง split() ช่วย\n",
        " \n",
        "\n",
        "12:30:15\n",
        " \n",
        "13:41:07\n",
        " \n",
        "12:53:15\n",
        " \n",
        "00:59:25\n",
        " \n",
        "11:11:11\n",
        "\n",
        "16:06:09"
      ]
    },
    {
      "cell_type": "code",
      "metadata": {
        "colab": {
          "base_uri": "https://localhost:8080/"
        },
        "id": "DiW_nqqE2008",
        "outputId": "51524357-b9bd-44b4-e29e-00dbe1fdbe5e"
      },
      "source": [
        " time = '12:30:15'\n",
        "t1 = time.split(':')\n",
        "s = t1[0]\n",
        "b = t1[1]\n",
        "c = t1[2]\n",
        "total_s = int(s)*60*60+int(b)*60+int(c)\n",
        "tt_s = f'{time} = {total_s} s'\n",
        "print(tt_s)"
      ],
      "execution_count": null,
      "outputs": [
        {
          "output_type": "stream",
          "text": [
            "12:30:15 = 45015 s\n"
          ],
          "name": "stdout"
        }
      ]
    },
    {
      "cell_type": "code",
      "metadata": {
        "colab": {
          "base_uri": "https://localhost:8080/"
        },
        "id": "gZSI-NuX3BPk",
        "outputId": "75b29946-88e8-4be1-a835-c85923b2be87"
      },
      "source": [
        " time = '13:41:07'\n",
        "t2 = time.split(':')\n",
        "s = t2[0]\n",
        "b = t2[1]\n",
        "c = t2[2]\n",
        "total_s = int(s)*60*60+int(b)*60+int(c)\n",
        "tt_s = f'{time} = {total_s} s'\n",
        "print(tt_s)"
      ],
      "execution_count": null,
      "outputs": [
        {
          "output_type": "stream",
          "text": [
            "13:41:07 = 49267 s\n"
          ],
          "name": "stdout"
        }
      ]
    },
    {
      "cell_type": "code",
      "metadata": {
        "colab": {
          "base_uri": "https://localhost:8080/"
        },
        "id": "6f352Ddl3Mf_",
        "outputId": "0ac92594-b63a-45c7-e700-20abfad0a934"
      },
      "source": [
        " time = '12:53:15'\n",
        "t3 = time.split(':')\n",
        "s = t3[0]\n",
        "b = t3[1]\n",
        "c = t3[2]\n",
        "total_s = int(s)*60*60+int(b)*60+int(c)\n",
        "tt_s = f'{time} = {total_s} s'\n",
        "print(tt_s)"
      ],
      "execution_count": null,
      "outputs": [
        {
          "output_type": "stream",
          "text": [
            "12:53:15 = 46395 s\n"
          ],
          "name": "stdout"
        }
      ]
    },
    {
      "cell_type": "code",
      "metadata": {
        "colab": {
          "base_uri": "https://localhost:8080/"
        },
        "id": "SkOws3nX3RBy",
        "outputId": "c10d0459-d639-43df-9eea-1f82dfb43f5c"
      },
      "source": [
        " time = '00:59:25'\n",
        "t4 = time.split(':')\n",
        "s = t4[0]\n",
        "b = t4[1]\n",
        "c = t4[2]\n",
        "total_s = int(s)*60*60+int(b)*60+int(c)\n",
        "tt_s = f'{time} = {total_s} s'\n",
        "print(tt_s)"
      ],
      "execution_count": null,
      "outputs": [
        {
          "output_type": "stream",
          "text": [
            "00:59:25 = 3565 s\n"
          ],
          "name": "stdout"
        }
      ]
    },
    {
      "cell_type": "code",
      "metadata": {
        "colab": {
          "base_uri": "https://localhost:8080/"
        },
        "id": "gtxT_PMQ3WvF",
        "outputId": "f6ba73fb-f558-43aa-97c9-3ebfdbbae731"
      },
      "source": [
        " time = '11:11:11'\n",
        "t5 = time.split(':')\n",
        "s = t5[0]\n",
        "b = t5[1]\n",
        "c = t5[2]\n",
        "total_s = int(s)*60*60+int(b)*60+int(c)\n",
        "tt_s = f'{time} = {total_s} s'\n",
        "print(tt_s)"
      ],
      "execution_count": null,
      "outputs": [
        {
          "output_type": "stream",
          "text": [
            "11:11:11 = 40271 s\n"
          ],
          "name": "stdout"
        }
      ]
    },
    {
      "cell_type": "code",
      "metadata": {
        "colab": {
          "base_uri": "https://localhost:8080/"
        },
        "id": "8Ay7Lwtj3fL9",
        "outputId": "e0b6095d-6de7-4fb7-9759-960657798e0d"
      },
      "source": [
        " time = '16:06:09'\n",
        "t6 = time.split(':')\n",
        "s = t6[0]\n",
        "b = t6[1]\n",
        "c = t6[2]\n",
        "total_s = int(s)*60*60+int(b)*60+int(c)\n",
        "tt_s = f'{time} = {total_s} s'\n",
        "print(tt_s)"
      ],
      "execution_count": null,
      "outputs": [
        {
          "output_type": "stream",
          "text": [
            "16:06:09 = 57969 s\n"
          ],
          "name": "stdout"
        }
      ]
    }
  ]
}