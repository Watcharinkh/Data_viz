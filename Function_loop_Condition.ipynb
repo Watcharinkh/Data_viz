{
  "nbformat": 4,
  "nbformat_minor": 0,
  "metadata": {
    "colab": {
      "name": "Function_loop_Condition.ipynb",
      "provenance": [],
      "include_colab_link": true
    },
    "kernelspec": {
      "name": "python3",
      "display_name": "Python 3"
    }
  },
  "cells": [
    {
      "cell_type": "markdown",
      "metadata": {
        "id": "view-in-github",
        "colab_type": "text"
      },
      "source": [
        "<a href=\"https://colab.research.google.com/github/Watcharinkh/Data_viz/blob/main/Function_loop_Condition.ipynb\" target=\"_parent\"><img src=\"https://colab.research.google.com/assets/colab-badge.svg\" alt=\"Open In Colab\"/></a>"
      ]
    },
    {
      "cell_type": "code",
      "metadata": {
        "colab": {
          "base_uri": "https://localhost:8080/"
        },
        "id": "WRYxlVc2fpka",
        "outputId": "f0cc1dab-2001-4a0c-8842-826dff5fc043"
      },
      "source": [
        "name = 'วัชรินทร์'\r\n",
        "surname = 'คำบาง'\r\n",
        "ID = 6130209758\r\n",
        "\r\n",
        "b = f'=ชื่อ {name} นามสกุล {surname} รหัส {ID}'\r\n",
        "print(b)"
      ],
      "execution_count": null,
      "outputs": [
        {
          "output_type": "stream",
          "text": [
            "=ชื่อ วัชรินทร์ นามสกุล คำบาง รหัส 6130209758\n"
          ],
          "name": "stdout"
        }
      ]
    },
    {
      "cell_type": "markdown",
      "metadata": {
        "id": "JYrIGiUdga5Z"
      },
      "source": [
        "### Function"
      ]
    },
    {
      "cell_type": "markdown",
      "metadata": {
        "id": "dhkfOxKugxKX"
      },
      "source": [
        "#### function template\r\n",
        "##### ทำหน้าที่รับ input มาประมวณผลมาเป็น output\r\n",
        "\r\n",
        "f(x) = y"
      ]
    },
    {
      "cell_type": "markdown",
      "metadata": {
        "id": "m8rBdFauhLES"
      },
      "source": [
        "### def คือการกำหนดฟังก์ชัน"
      ]
    },
    {
      "cell_type": "code",
      "metadata": {
        "id": "-VVvNwXfgwUC"
      },
      "source": [
        "\r\n",
        "def function_name(_Input_):\r\n",
        "  do_something with _Input_ to get _Output_\r\n",
        "  return _Output\r\n",
        "\r\n",
        "  back tick ==> (),alt = 96\r\n",
        "  tilde (~)\r\n",
        "  curly bracket ({})\r\n",
        "  square bracket ([])"
      ],
      "execution_count": null,
      "outputs": []
    },
    {
      "cell_type": "markdown",
      "metadata": {
        "id": "pQA-XRLtmIkL"
      },
      "source": [
        "function มีส่วนสำคัญ 4 ส่วน\r\n",
        "1. บอก python ว่าเราจะเขียนฟังก์ชันอะไร ``` def function_name():``` (ขาดไม่ได้) \r\n",
        "2. กำหนดตัวเเปรที่จะเป็น input ```_Input_```(ขาดได้) \r\n",
        "3. ส่วนประมวณผล ```do_something with _Input_ to get _Output_```(ขาดไม่ได้) \r\n",
        "4. ส่วน outut ```return _Output```(ขาดได้) "
      ]
    },
    {
      "cell_type": "markdown",
      "metadata": {
        "id": "CYklAJxCjQIs"
      },
      "source": [
        "### ตัวอย่างการเขียน normal function"
      ]
    },
    {
      "cell_type": "code",
      "metadata": {
        "id": "_k3T9mqzhspn"
      },
      "source": [
        "def  print_name(name,surname,ID):\r\n",
        "  st = f'ชื่อ {name} นามสกุล {surname} รหัส {ID}'\r\n",
        "  return st"
      ],
      "execution_count": null,
      "outputs": []
    },
    {
      "cell_type": "code",
      "metadata": {
        "colab": {
          "base_uri": "https://localhost:8080/",
          "height": 35
        },
        "id": "UvZkfUUwk8u9",
        "outputId": "c68d4e25-9957-49bd-f2bd-94ad185408a1"
      },
      "source": [
        "print_name('วัชรินทร์','คำบาง','6130209758')"
      ],
      "execution_count": null,
      "outputs": [
        {
          "output_type": "execute_result",
          "data": {
            "application/vnd.google.colaboratory.intrinsic+json": {
              "type": "string"
            },
            "text/plain": [
              "'ชื่อ วัชรินทร์ นามสกุล คำบาง รหัส 6130209758'"
            ]
          },
          "metadata": {
            "tags": []
          },
          "execution_count": 9
        }
      ]
    },
    {
      "cell_type": "code",
      "metadata": {
        "colab": {
          "base_uri": "https://localhost:8080/"
        },
        "id": "8EW1wR7GldAV",
        "outputId": "5135a218-544c-474e-ad45-74e49dce71b7"
      },
      "source": [
        "print(print_name(name='วัชรินทร์',surname='คำบาง',ID=6130209758))"
      ],
      "execution_count": null,
      "outputs": [
        {
          "output_type": "stream",
          "text": [
            "ชื่อ วัชรินทร์ นามสกุล คำบาง รหัส 6130209758\n"
          ],
          "name": "stdout"
        }
      ]
    },
    {
      "cell_type": "markdown",
      "metadata": {
        "id": "mrT1Zb7fpfcF"
      },
      "source": [
        "เราใช้ เว้นวรรค(indent)เพื่อบอกขอบเขตของโปรเเกรม"
      ]
    },
    {
      "cell_type": "markdown",
      "metadata": {
        "id": "MdPs6F2jqKMq"
      },
      "source": [
        "ฟังก์ชันไม่จำเป็นต้องมี output"
      ]
    },
    {
      "cell_type": "code",
      "metadata": {
        "id": "_4wUYD6bpKSx"
      },
      "source": [
        "def  print_name2(name,surname,ID):\r\n",
        "      st = f'ชื่อ {name} นามสกุล {surname} รหัส {ID}'\r\n",
        "      print(st)"
      ],
      "execution_count": null,
      "outputs": []
    },
    {
      "cell_type": "code",
      "metadata": {
        "colab": {
          "base_uri": "https://localhost:8080/"
        },
        "id": "PoKNZ5fMpKQK",
        "outputId": "cd32773f-0fa7-4fa0-bac9-64b6474c4779"
      },
      "source": [
        "print_name2(name='วัชรินทร์',surname='คำบาง',ID=6130209758)"
      ],
      "execution_count": null,
      "outputs": [
        {
          "output_type": "stream",
          "text": [
            "ชื่อ วัชรินทร์ นามสกุล คำบาง รหัส 6130209758\n"
          ],
          "name": "stdout"
        }
      ]
    },
    {
      "cell_type": "markdown",
      "metadata": {
        "id": "bo2LpPQYqaGC"
      },
      "source": [
        "ฟังก์ชันไม่จำเป็นต้องมี input"
      ]
    },
    {
      "cell_type": "code",
      "metadata": {
        "id": "9Q3bXOUypKNa"
      },
      "source": [
        "def Pi():\r\n",
        "    return 3.14159265359"
      ],
      "execution_count": null,
      "outputs": []
    },
    {
      "cell_type": "code",
      "metadata": {
        "colab": {
          "base_uri": "https://localhost:8080/"
        },
        "id": "fpUYWtKKpKKx",
        "outputId": "8221302b-b589-4646-ea85-5ac0b65cfe74"
      },
      "source": [
        "Pi()*(2**2) #หาพื้นทีวงกลมที่มีรัศมี Pi * r^2"
      ],
      "execution_count": null,
      "outputs": [
        {
          "output_type": "execute_result",
          "data": {
            "text/plain": [
              "12.56637061436"
            ]
          },
          "metadata": {
            "tags": []
          },
          "execution_count": 19
        }
      ]
    },
    {
      "cell_type": "markdown",
      "metadata": {
        "id": "IDIe5Xb1rcn7"
      },
      "source": [
        "เราสามารถกำหนดค่า default ให้กับฟังก์ชันได้ #default คือค่าเริ่มต้นที่กำหนดไว้เเละมีการเปลี่ยนเเปลงเกิดขึ้น"
      ]
    },
    {
      "cell_type": "code",
      "metadata": {
        "id": "RbaIhrSApKGq"
      },
      "source": [
        "def  print_2line_default(name,surname,ID,grade='F'):\r\n",
        "  st = f'ชื่อ {name} นามสกุล {surname} รหัส {ID}'\r\n",
        "  print(st)\r\n",
        "  st2=f'เกรดวิชา Data Viz >>> {grade}'\r\n",
        "  print(st2)"
      ],
      "execution_count": null,
      "outputs": []
    },
    {
      "cell_type": "code",
      "metadata": {
        "colab": {
          "base_uri": "https://localhost:8080/"
        },
        "id": "B1p5pPIppKEG",
        "outputId": "1f6b1fbe-4968-4860-bb42-ba3317e3cd4c"
      },
      "source": [
        "print_2line_default('วัชรินทร์','คำบาง','6130209758')"
      ],
      "execution_count": null,
      "outputs": [
        {
          "output_type": "stream",
          "text": [
            "ชื่อ วัชรินทร์ นามสกุล คำบาง รหัส 6130209758\n",
            "เกรดวิชา Data Viz >>> F\n"
          ],
          "name": "stdout"
        }
      ]
    },
    {
      "cell_type": "code",
      "metadata": {
        "colab": {
          "base_uri": "https://localhost:8080/"
        },
        "id": "ja1JkW8mpKBY",
        "outputId": "6f3095d7-2f5b-420e-c624-47fe1c0e2599"
      },
      "source": [
        "print_2line_default('วัชรินทร์','คำบาง','6130209758','A')"
      ],
      "execution_count": null,
      "outputs": [
        {
          "output_type": "stream",
          "text": [
            "ชื่อ วัชรินทร์ นามสกุล คำบาง รหัส 6130209758\n",
            "เกรดวิชา Data Viz >>> A\n"
          ],
          "name": "stdout"
        }
      ]
    },
    {
      "cell_type": "markdown",
      "metadata": {
        "id": "qwUHd5R10ipE"
      },
      "source": [
        "#Loop การวนซ้ำ"
      ]
    },
    {
      "cell_type": "markdown",
      "metadata": {
        "id": "xf_QT4e30rYm"
      },
      "source": [
        "for เป็นคำบอก prthon ว่าเรากำลังเขียน loop โดย for จะวนดึงสมาชิกจาก  listA มาทำ process do_someting"
      ]
    },
    {
      "cell_type": "code",
      "metadata": {
        "id": "1rWSeUYVpHmU"
      },
      "source": [
        "for each_member in listA :\r\n",
        "  do_something"
      ],
      "execution_count": null,
      "outputs": []
    },
    {
      "cell_type": "markdown",
      "metadata": {
        "id": "Vm6nwNvy1Kn7"
      },
      "source": [
        "คำสั่ง for เป็นคำสั่งวนซ้ำที่ใช้ควบคุมการทำงานวนซ้ำๆในจำนวนรอบที่เเน่นอน"
      ]
    },
    {
      "cell_type": "code",
      "metadata": {
        "colab": {
          "base_uri": "https://localhost:8080/"
        },
        "id": "OT-YirO_l80V",
        "outputId": "82702a9e-7e36-4b9e-e1e6-a2708f0dc2e9"
      },
      "source": [
        "for i in [1,2,3] :\r\n",
        "  o = i**2\r\n",
        "  print (f'this member = {i} after process = {o}')"
      ],
      "execution_count": null,
      "outputs": [
        {
          "output_type": "stream",
          "text": [
            "this member = 1 after process = 1\n",
            "this member = 2 after process = 4\n",
            "this member = 3 after process = 9\n"
          ],
          "name": "stdout"
        }
      ]
    },
    {
      "cell_type": "code",
      "metadata": {
        "id": "2gSKJJNI9w3H"
      },
      "source": [
        "def Total_secondtime(time) :\r\n",
        "  tm = time.split(':')\r\n",
        "  total_sec = int(tm[0])*60*60+int(tm[1])*60+int(tm[2])\r\n",
        "  tt_sec = f' {time} = {total_sec} s'\r\n",
        "  print(tt_sec)"
      ],
      "execution_count": null,
      "outputs": []
    },
    {
      "cell_type": "code",
      "metadata": {
        "colab": {
          "base_uri": "https://localhost:8080/"
        },
        "id": "UHmpF-X29d27",
        "outputId": "6fedc418-6f6e-4c53-b342-40d06d60a349"
      },
      "source": [
        "Total_secondtime('12:30:15')\r\n",
        "\r\n",
        "Total_secondtime('13:41:07')\r\n",
        "\r\n",
        "Total_secondtime('12:53:15')\r\n",
        "\r\n",
        "Total_secondtime('00:59:25')\r\n",
        "\r\n",
        "Total_secondtime('11:11:11')\r\n",
        "\r\n",
        "Total_secondtime('16:06:09')"
      ],
      "execution_count": null,
      "outputs": [
        {
          "output_type": "stream",
          "text": [
            " 12:30:15 = 45015 s\n",
            " 13:41:07 = 49267 s\n",
            " 12:53:15 = 46395 s\n",
            " 00:59:25 = 3565 s\n",
            " 11:11:11 = 40271 s\n",
            " 16:06:09 = 57969 s\n"
          ],
          "name": "stdout"
        }
      ]
    },
    {
      "cell_type": "markdown",
      "metadata": {
        "id": "0eaiz0Dr29aC"
      },
      "source": [
        "### HW"
      ]
    },
    {
      "cell_type": "markdown",
      "metadata": {
        "id": "neHpye-23Nq8"
      },
      "source": [
        "ให้สร้าง list ของเวลา\r\n",
        "\r\n",
        "12:30:15\r\n",
        "\r\n",
        "13:41:07\r\n",
        "\r\n",
        "12:53:15\r\n",
        "\r\n",
        "00:59:25\r\n",
        "\r\n",
        "11:11:11\r\n",
        "\r\n",
        "16:06:09\r\n",
        "\r\n",
        "เเล้ววนลูปเรียกฟังก์ชันคำนวณเวลาเป็นวินาที\r\n",
        "*commit ว่า HW3"
      ]
    },
    {
      "cell_type": "code",
      "metadata": {
        "colab": {
          "base_uri": "https://localhost:8080/"
        },
        "id": "qG2z-pYG7Kw5",
        "outputId": "0df0e2dd-cb87-4339-8fe9-ad3cd2e91b8a"
      },
      "source": [
        "time1 =['12:30:15', '13:41:07', '12:53:15', '00:59:25', ('00:59:25'), ('11:11:11'), ('16:06:09')]\r\n",
        "for T in time1 :\r\n",
        "  tm = T.split(':')\r\n",
        "  total_sec = int(tm[0])*60*60+int(tm[1])*60+int(tm[2])\r\n",
        "  tt_sec = f' {T} = {total_sec} s'\r\n",
        "  print(tt_sec)\r\n"
      ],
      "execution_count": null,
      "outputs": [
        {
          "output_type": "stream",
          "text": [
            " 12:30:15 = 45015 s\n",
            " 13:41:07 = 49267 s\n",
            " 12:53:15 = 46395 s\n",
            " 00:59:25 = 3565 s\n",
            " 00:59:25 = 3565 s\n",
            " 11:11:11 = 40271 s\n",
            " 16:06:09 = 57969 s\n"
          ],
          "name": "stdout"
        }
      ]
    },
    {
      "cell_type": "markdown",
      "metadata": {
        "id": "IYzwCZIrVg7R"
      },
      "source": [
        "ตัวอย่างการใช้คำสั่ง for ในการวนซ้ำค่าของ"
      ]
    },
    {
      "cell_type": "code",
      "metadata": {
        "id": "fnbdg8QHVgNA",
        "colab": {
          "base_uri": "https://localhost:8080/"
        },
        "outputId": "66afabb3-a722-43c1-dc87-c3959a27a212"
      },
      "source": [
        "for i in 'watcharin':\r\n",
        "  print(f'{i} ->/' , end = ' ' ) #สั่งให้ print เเบบไม่เว้นบรรทัด"
      ],
      "execution_count": null,
      "outputs": [
        {
          "output_type": "stream",
          "text": [
            "w ->/ a ->/ t ->/ c ->/ h ->/ a ->/ r ->/ i ->/ n ->/ "
          ],
          "name": "stdout"
        }
      ]
    },
    {
      "cell_type": "code",
      "metadata": {
        "id": "83VIyYAqWYhh",
        "colab": {
          "base_uri": "https://localhost:8080/"
        },
        "outputId": "3541f59b-d2d1-40d1-9e6a-1cc5f61e26a5"
      },
      "source": [
        "for i in 'watcharin':\r\n",
        "  print(f'{i} ->/' , end = ', ' ) #สั่งให้ print เเบบไม่เว้นบรรทัด"
      ],
      "execution_count": null,
      "outputs": [
        {
          "output_type": "stream",
          "text": [
            "w ->/, a ->/, t ->/, c ->/, h ->/, a ->/, r ->/, i ->/, n ->/, "
          ],
          "name": "stdout"
        }
      ]
    },
    {
      "cell_type": "markdown",
      "metadata": {
        "id": "l17ffOwPXds8"
      },
      "source": [
        "## สร้าง list ตัวเลขเเบบอัติโนมัติ range()"
      ]
    },
    {
      "cell_type": "code",
      "metadata": {
        "id": "sK1eHPwVXodJ",
        "colab": {
          "base_uri": "https://localhost:8080/"
        },
        "outputId": "b5d0c7bb-5743-45e3-a428-5c4432b62c06"
      },
      "source": [
        "range5_output = range(5)\r\n",
        "print(list(range5_output))"
      ],
      "execution_count": null,
      "outputs": [
        {
          "output_type": "stream",
          "text": [
            "[0, 1, 2, 3, 4]\n"
          ],
          "name": "stdout"
        }
      ]
    },
    {
      "cell_type": "code",
      "metadata": {
        "id": "rtFPxVuPYcR8",
        "colab": {
          "base_uri": "https://localhost:8080/"
        },
        "outputId": "2a4c37ae-4b94-431c-9937-20d1337130e9"
      },
      "source": [
        "for i in range(100):\r\n",
        "  print('งง',end=' ')"
      ],
      "execution_count": null,
      "outputs": [
        {
          "output_type": "stream",
          "text": [
            "งง งง งง งง งง งง งง งง งง งง งง งง งง งง งง งง งง งง งง งง งง งง งง งง งง งง งง งง งง งง งง งง งง งง งง งง งง งง งง งง งง งง งง งง งง งง งง งง งง งง งง งง งง งง งง งง งง งง งง งง งง งง งง งง งง งง งง งง งง งง งง งง งง งง งง งง งง งง งง งง งง งง งง งง งง งง งง งง งง งง งง งง งง งง งง งง งง งง งง งง "
          ],
          "name": "stdout"
        }
      ]
    },
    {
      "cell_type": "code",
      "metadata": {
        "id": "zlwkwHZDY1e9",
        "colab": {
          "base_uri": "https://localhost:8080/"
        },
        "outputId": "e4e5b235-c307-4b7e-97b0-6ff605670297"
      },
      "source": [
        "list(range(1,11)) #เริ่มต้นเป็นวงทึบ  จจบเป็นวงกลมโปร่ง เหมืือน list slicing"
      ],
      "execution_count": null,
      "outputs": [
        {
          "output_type": "execute_result",
          "data": {
            "text/plain": [
              "[1, 2, 3, 4, 5, 6, 7, 8, 9, 10]"
            ]
          },
          "metadata": {
            "tags": []
          },
          "execution_count": 18
        }
      ]
    },
    {
      "cell_type": "code",
      "metadata": {
        "id": "DZqYm4QociA6",
        "colab": {
          "base_uri": "https://localhost:8080/"
        },
        "outputId": "dd50ca12-d34b-43a5-ccc6-de4fb8bfdab8"
      },
      "source": [
        "list(range(-3,20,4))"
      ],
      "execution_count": null,
      "outputs": [
        {
          "output_type": "execute_result",
          "data": {
            "text/plain": [
              "[-3, 1, 5, 9, 13, 17]"
            ]
          },
          "metadata": {
            "tags": []
          },
          "execution_count": 20
        }
      ]
    },
    {
      "cell_type": "markdown",
      "metadata": {
        "id": "BzRmCr40dNFm"
      },
      "source": [
        "###Loop in Loop\r\n",
        "\r\n",
        "สามารถใช้ for loop ซ้อนกันสองรอบๆได้"
      ]
    },
    {
      "cell_type": "code",
      "metadata": {
        "id": "supJQf4Ach9_",
        "colab": {
          "base_uri": "https://localhost:8080/"
        },
        "outputId": "772b0778-6a8c-4cac-9ebf-1771698735ec"
      },
      "source": [
        "for name1 in range(2,5) : #(2, 3, 4) \r\n",
        "     print(f'now name1 = {name1}')\r\n",
        "     for name2 in range(1,13) :\r\n",
        "           print(name1,'x',name2, '=',name1*name2)\r\n",
        "     print('the inner loop is end')      "
      ],
      "execution_count": null,
      "outputs": [
        {
          "output_type": "stream",
          "text": [
            "now name1 = 2\n",
            "2 x 1 = 2\n",
            "2 x 2 = 4\n",
            "2 x 3 = 6\n",
            "2 x 4 = 8\n",
            "2 x 5 = 10\n",
            "2 x 6 = 12\n",
            "2 x 7 = 14\n",
            "2 x 8 = 16\n",
            "2 x 9 = 18\n",
            "2 x 10 = 20\n",
            "2 x 11 = 22\n",
            "2 x 12 = 24\n",
            "the inner loop is end\n",
            "now name1 = 3\n",
            "3 x 1 = 3\n",
            "3 x 2 = 6\n",
            "3 x 3 = 9\n",
            "3 x 4 = 12\n",
            "3 x 5 = 15\n",
            "3 x 6 = 18\n",
            "3 x 7 = 21\n",
            "3 x 8 = 24\n",
            "3 x 9 = 27\n",
            "3 x 10 = 30\n",
            "3 x 11 = 33\n",
            "3 x 12 = 36\n",
            "the inner loop is end\n",
            "now name1 = 4\n",
            "4 x 1 = 4\n",
            "4 x 2 = 8\n",
            "4 x 3 = 12\n",
            "4 x 4 = 16\n",
            "4 x 5 = 20\n",
            "4 x 6 = 24\n",
            "4 x 7 = 28\n",
            "4 x 8 = 32\n",
            "4 x 9 = 36\n",
            "4 x 10 = 40\n",
            "4 x 11 = 44\n",
            "4 x 12 = 48\n",
            "the inner loop is end\n"
          ],
          "name": "stdout"
        }
      ]
    },
    {
      "cell_type": "markdown",
      "metadata": {
        "id": "aFBfEV7sfLB7"
      },
      "source": [
        "###loop in function\r\n",
        "การวนลูปในฟังก์ชั่น"
      ]
    },
    {
      "cell_type": "code",
      "metadata": {
        "id": "HFlaYCHDXLS0"
      },
      "source": [
        "list_friend = ['one', 'two','three', 'four']"
      ],
      "execution_count": null,
      "outputs": []
    },
    {
      "cell_type": "code",
      "metadata": {
        "id": "5QU-8bsAfsNl"
      },
      "source": [
        "def print_feelings(I,friends,feeling = 'คิดถึง'):\r\n",
        "    for friend  in friends :\r\n",
        "        print(f'{I} {feeling} {friend}')"
      ],
      "execution_count": null,
      "outputs": []
    },
    {
      "cell_type": "code",
      "metadata": {
        "id": "Tqz31Er9f4mz",
        "colab": {
          "base_uri": "https://localhost:8080/"
        },
        "outputId": "af4b83f9-8b00-40fc-d3e3-e974b5f87921"
      },
      "source": [
        "print_feelings('mit',list_friend,'love')"
      ],
      "execution_count": null,
      "outputs": [
        {
          "output_type": "stream",
          "text": [
            "mit love one\n",
            "mit love two\n",
            "mit love three\n",
            "mit love four\n"
          ],
          "name": "stdout"
        }
      ]
    },
    {
      "cell_type": "markdown",
      "metadata": {
        "id": "7UpU5kTskI6t"
      },
      "source": [
        "###conditional คือ เงื่อนไข /ประโยคเงื่อนไข\r\n",
        "\r\n",
        "==, !=,>=,<=,<,>"
      ]
    },
    {
      "cell_type": "markdown",
      "metadata": {
        "id": "qg0BtgsCkRjz"
      },
      "source": [
        "##### True / False\r\n",
        "##### การวนลูปโดยมีเงื่อนไขต่างๆมาเกี่ยวข้อง โดยมี pattern ดังนี้"
      ]
    },
    {
      "cell_type": "code",
      "metadata": {
        "id": "UFdOZIAugDk5"
      },
      "source": [
        "if condition1 :\r\n",
        "    do something\r\n",
        "elif condition2 : #elif คือ else if\r\n",
        "    do another thing\r\n",
        "else:\r\n",
        "    do ..."
      ],
      "execution_count": null,
      "outputs": []
    },
    {
      "cell_type": "code",
      "metadata": {
        "id": "FrhkfcGflUvn"
      },
      "source": [
        "print(list_friend)"
      ],
      "execution_count": null,
      "outputs": []
    },
    {
      "cell_type": "code",
      "metadata": {
        "id": "adQf3l5pl0yT"
      },
      "source": [
        "for name1 in list_friend:\r\n",
        "    for name2 in list_friend :\r\n",
        "            print(name1,'รัก',name2)"
      ],
      "execution_count": null,
      "outputs": []
    },
    {
      "cell_type": "code",
      "metadata": {
        "id": "4k_DG0LQk9mX"
      },
      "source": [
        "for name1 in list_friend:\r\n",
        "    for name2 in list_friend :\r\n",
        "        if name1 != name2:  #ไม่ปริ้นชื่อเดียวกันซ้ำ\r\n",
        "            print(name1,'รัก',name2)"
      ],
      "execution_count": null,
      "outputs": []
    },
    {
      "cell_type": "code",
      "metadata": {
        "id": "1iB1vk2ImLT4"
      },
      "source": [
        "for name1 in list_friend:\r\n",
        "    for name2 in list_friend :\r\n",
        "        if name1 == name2: \r\n",
        "          'do something'\r\n",
        "        else:  \r\n",
        "            print(name1,'รัก',name2)"
      ],
      "execution_count": null,
      "outputs": []
    },
    {
      "cell_type": "markdown",
      "metadata": {
        "id": "vLAmteBRnMTT"
      },
      "source": [
        "###==, !=,>=,<=,<,>"
      ]
    },
    {
      "cell_type": "code",
      "metadata": {
        "id": "1pCqsMTDnNUX",
        "colab": {
          "base_uri": "https://localhost:8080/"
        },
        "outputId": "256c2fa6-e8cd-4bfc-ae23-1ce423b8f2ad"
      },
      "source": [
        "'one' == 'two'"
      ],
      "execution_count": null,
      "outputs": [
        {
          "output_type": "execute_result",
          "data": {
            "text/plain": [
              "False"
            ]
          },
          "metadata": {
            "tags": []
          },
          "execution_count": 42
        }
      ]
    },
    {
      "cell_type": "code",
      "metadata": {
        "id": "sH-5xFrFnSrh",
        "colab": {
          "base_uri": "https://localhost:8080/"
        },
        "outputId": "6d63259e-9dfc-4843-edbe-e96ce840b892"
      },
      "source": [
        "'one' != 'two'"
      ],
      "execution_count": null,
      "outputs": [
        {
          "output_type": "execute_result",
          "data": {
            "text/plain": [
              "True"
            ]
          },
          "metadata": {
            "tags": []
          },
          "execution_count": 43
        }
      ]
    },
    {
      "cell_type": "markdown",
      "metadata": {
        "id": "87uHfSyrnjeJ"
      },
      "source": [
        "หากหลังเงื่อนไข True ถูกต้องจะทำการ print ข้อความออกมาว่า Yes"
      ]
    },
    {
      "cell_type": "code",
      "metadata": {
        "id": "GKCBehGWnmXr",
        "colab": {
          "base_uri": "https://localhost:8080/"
        },
        "outputId": "d0b5fa28-fe2e-419c-cd38-03bf65f6a553"
      },
      "source": [
        "if True:\r\n",
        "    print('Yes')"
      ],
      "execution_count": null,
      "outputs": [
        {
          "output_type": "stream",
          "text": [
            "Yes\n"
          ],
          "name": "stdout"
        }
      ]
    },
    {
      "cell_type": "code",
      "metadata": {
        "id": "lXb5JNjPnmPr"
      },
      "source": [
        "if False:\r\n",
        "    print('No')"
      ],
      "execution_count": null,
      "outputs": []
    },
    {
      "cell_type": "markdown",
      "metadata": {
        "id": "7HAnzownnd0w"
      },
      "source": [
        "หากหลังเงื่อนไข False ไม่ถูกต้องจะไม่ปริ้นข้อความใดๆออกมา\r\n",
        "ซึ่งจะต้องใช้เงื่อนไขนี้ จึงจะได้ปริ้นค่าเงื่อนไขนั้นออกมา ดัง"
      ]
    },
    {
      "cell_type": "code",
      "metadata": {
        "id": "4WxMKbhqnah_",
        "colab": {
          "base_uri": "https://localhost:8080/"
        },
        "outputId": "7bca4243-281f-4346-fa1b-61bbb0475596"
      },
      "source": [
        "if False:\r\n",
        "    print('Yes')\r\n",
        "else:\r\n",
        "    print('No')"
      ],
      "execution_count": null,
      "outputs": [
        {
          "output_type": "stream",
          "text": [
            "No\n"
          ],
          "name": "stdout"
        }
      ]
    },
    {
      "cell_type": "code",
      "metadata": {
        "id": "x5RERVwUnuBw",
        "colab": {
          "base_uri": "https://localhost:8080/"
        },
        "outputId": "75ff2f3b-798a-47e5-b857-3525b7d57807"
      },
      "source": [
        "1 == 1"
      ],
      "execution_count": null,
      "outputs": [
        {
          "output_type": "execute_result",
          "data": {
            "text/plain": [
              "True"
            ]
          },
          "metadata": {
            "tags": []
          },
          "execution_count": 47
        }
      ]
    },
    {
      "cell_type": "markdown",
      "metadata": {
        "id": "9w7H0Y2bn1yb"
      },
      "source": [
        "# HW\r\n",
        "#### เขียน function ตัดเกรด โดยที่ input เป็นคะแนน(0-100) , output เป็นเกรด (F-A)\r\n",
        "#### วนลูปตัดเกรด  input = [1,50,65,90,101,-5,49]"
      ]
    },
    {
      "cell_type": "markdown",
      "metadata": {
        "id": "n43fc4YOoLt8"
      },
      "source": [
        "##### กำหนด\r\n",
        "      ถ้าคะแนนอยู่ระหว่างมากกว่าหรือเท่ากับ  0  แต่น้อยกว่า 50 จะได้เกรด F\r\n",
        "      ถ้าคะแนนอยู่ระหว่างมากกว่าหรือเท่ากับ 50 แต่น้อยกว่า 55 จะได้เกรด D\r\n",
        "      ถ้าคะแนนอยู่ระหว่างมากกว่าหรือเท่ากับ 55 แต่น้อยกว่า 60 จะได้เกรด D+\r\n",
        "      ถ้าคะแนนอยู่ระหว่างมากกว่าหรือเท่ากับ 60 แต่น้อยกว่า 65 จะได้เกรด C\r\n",
        "      ถ้าคะแนนอยู่ระหว่างมากกว่าหรือเท่ากับ 65 แต่น้อยกว่า 70 จะได้เกรด C+\r\n",
        "      ถ้าคะแนนอยู่ระหว่างมากกว่าหรือเท่ากับ 70 แต่น้อยกว่า 75 จะได้เกรด B\r\n",
        "      ถ้าคะแนนอยู่ระหว่างมากกว่าหรือเท่ากับ 75 แต่น้อยกว่า 80 จะได้เกรด B+\r\n",
        "      ถ้าคะแนนอยู่ระหว่างมากกว่าหรือเท่ากับ 80  จะได้เกรด A\r\n",
        "      แต่ว่าค่าคะแนนจะต้องไม่ต่ำกว่า 0 และมากกว่า 100 ไม่งั้นจะเกิด error"
      ]
    },
    {
      "cell_type": "code",
      "metadata": {
        "id": "daN7TYJen2aT",
        "outputId": "8a06f930-9a30-4520-9e4e-8475cc47903e",
        "colab": {
          "base_uri": "https://localhost:8080/"
        }
      },
      "source": [
        "input = [1,50,65,90,101,-5,49]\r\n",
        "def grade(score) :\r\n",
        "  for score in input:\r\n",
        "      if score < 0:\r\n",
        "         print(f'คะเเนนน้อยกว่า 0 : error')\r\n",
        "      elif  -1 < score < 50 :\r\n",
        "         print(f'คะเเนนที่ได้ในเทอมนี้เท่ากับ {score} คะเเนน --> เกรด F')  \r\n",
        "      elif 50 <= score < 55 :\r\n",
        "         print(f'คะเเนนที่ได้ในเทอมนี้เท่ากับ {score} คะเเนน --> เกรด D')  \r\n",
        "      elif 55 <= score < 60 :\r\n",
        "         print(f'คะเเนนที่ได้ในเทอมนี้เท่ากับ {score} คะเเนน --> เกรด D+')\r\n",
        "      elif 60 <= score < 65 :\r\n",
        "         print(f'คะเเนนที่ได้ในเทอมนี้เท่ากับ {score} คะเเนน --> เกรด C')  \r\n",
        "      elif 65 <= score < 70 :\r\n",
        "        print(f'คะเเนนที่ได้ในเทอมนี้เท่ากับ {score} คะเเนน --> เกรด C+')\r\n",
        "      elif 70 <= score < 75 :\r\n",
        "         print(f'คะเเนนที่ได้ในเทอมนี้เท่ากับ {score} คะเเนน --> เกรด B')\r\n",
        "      elif 75 <= score < 80 :\r\n",
        "         print(f'คะเเนนที่ได้ในเทอมนี้เท่ากับ {score} คะเเนน --> เกรด B+')\r\n",
        "      elif 80 <= score < 100 :\r\n",
        "         print(f'คะเเนนที่ได้ในเทอมนี้เท่ากับ {score} คะเเนน --> เกรด A')\r\n",
        "      elif 100 < score :\r\n",
        "         print(f'คะเเนนมากกว่า 100 : error')\r\n",
        "grade(score)          "
      ],
      "execution_count": 30,
      "outputs": [
        {
          "output_type": "stream",
          "text": [
            "คะเเนนที่ได้ในเทอมนี้เท่ากับ 1 คะเเนน --> เกรด F\n",
            "คะเเนนที่ได้ในเทอมนี้เท่ากับ 50 คะเเนน --> เกรด D\n",
            "คะเเนนที่ได้ในเทอมนี้เท่ากับ 65 คะเเนน --> เกรด C+\n",
            "คะเเนนที่ได้ในเทอมนี้เท่ากับ 90 คะเเนน --> เกรด A\n",
            "คะเเนนมากกว่า 100 : error\n",
            "คะเเนนน้อยกว่า 0 : error\n",
            "คะเเนนที่ได้ในเทอมนี้เท่ากับ 49 คะเเนน --> เกรด F\n"
          ],
          "name": "stdout"
        }
      ]
    }
  ]
}