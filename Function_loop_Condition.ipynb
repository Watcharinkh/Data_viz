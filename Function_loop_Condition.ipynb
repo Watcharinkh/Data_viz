{
  "nbformat": 4,
  "nbformat_minor": 0,
  "metadata": {
    "colab": {
      "name": "Function_loop_Condition.ipynb",
      "provenance": [],
      "authorship_tag": "ABX9TyPKhElij8nvNqRlM4GDS+/0",
      "include_colab_link": true
    },
    "kernelspec": {
      "name": "python3",
      "display_name": "Python 3"
    }
  },
  "cells": [
    {
      "cell_type": "markdown",
      "metadata": {
        "id": "view-in-github",
        "colab_type": "text"
      },
      "source": [
        "<a href=\"https://colab.research.google.com/github/Watcharinkh/Data_viz/blob/main/Function_loop_Condition.ipynb\" target=\"_parent\"><img src=\"https://colab.research.google.com/assets/colab-badge.svg\" alt=\"Open In Colab\"/></a>"
      ]
    },
    {
      "cell_type": "code",
      "metadata": {
        "colab": {
          "base_uri": "https://localhost:8080/"
        },
        "id": "WRYxlVc2fpka",
        "outputId": "f0cc1dab-2001-4a0c-8842-826dff5fc043"
      },
      "source": [
        "name = 'วัชรินทร์'\r\n",
        "surname = 'คำบาง'\r\n",
        "ID = 6130209758\r\n",
        "\r\n",
        "b = f'=ชื่อ {name} นามสกุล {surname} รหัส {ID}'\r\n",
        "print(b)"
      ],
      "execution_count": null,
      "outputs": [
        {
          "output_type": "stream",
          "text": [
            "=ชื่อ วัชรินทร์ นามสกุล คำบาง รหัส 6130209758\n"
          ],
          "name": "stdout"
        }
      ]
    },
    {
      "cell_type": "markdown",
      "metadata": {
        "id": "JYrIGiUdga5Z"
      },
      "source": [
        "### Function"
      ]
    },
    {
      "cell_type": "markdown",
      "metadata": {
        "id": "dhkfOxKugxKX"
      },
      "source": [
        "#### function template\r\n",
        "##### ทำหน้าที่รับ input มาประมวณผลมาเป็น output\r\n",
        "\r\n",
        "f(x) = y"
      ]
    },
    {
      "cell_type": "markdown",
      "metadata": {
        "id": "m8rBdFauhLES"
      },
      "source": [
        "### def คือการกำหนดฟังก์ชัน"
      ]
    },
    {
      "cell_type": "code",
      "metadata": {
        "id": "-VVvNwXfgwUC"
      },
      "source": [
        "\r\n",
        "def function_name(_Input_):\r\n",
        "  do_something with _Input_ to get _Output_\r\n",
        "  return _Output\r\n",
        "\r\n",
        "  back tick ==> (),alt = 96\r\n",
        "  tilde (~)\r\n",
        "  curly bracket ({})\r\n",
        "  square bracket ([])"
      ],
      "execution_count": null,
      "outputs": []
    },
    {
      "cell_type": "markdown",
      "metadata": {
        "id": "pQA-XRLtmIkL"
      },
      "source": [
        "function มีส่วนสำคัญ 4 ส่วน\r\n",
        "1. บอก python ว่าเราจะเขียนฟังก์ชันอะไร ``` def function_name():``` (ขาดไม่ได้) \r\n",
        "2. กำหนดตัวเเปรที่จะเป็น input ```_Input_```(ขาดได้) \r\n",
        "3. ส่วนประมวณผล ```do_something with _Input_ to get _Output_```(ขาดไม่ได้) \r\n",
        "4. ส่วน outut ```return _Output```(ขาดได้) "
      ]
    },
    {
      "cell_type": "markdown",
      "metadata": {
        "id": "CYklAJxCjQIs"
      },
      "source": [
        "### ตัวอย่างการเขียน normal function"
      ]
    },
    {
      "cell_type": "code",
      "metadata": {
        "id": "_k3T9mqzhspn"
      },
      "source": [
        "def  print_name(name,surname,ID):\r\n",
        "  st = f'ชื่อ {name} นามสกุล {surname} รหัส {ID}'\r\n",
        "  return st"
      ],
      "execution_count": null,
      "outputs": []
    },
    {
      "cell_type": "code",
      "metadata": {
        "colab": {
          "base_uri": "https://localhost:8080/",
          "height": 35
        },
        "id": "UvZkfUUwk8u9",
        "outputId": "c68d4e25-9957-49bd-f2bd-94ad185408a1"
      },
      "source": [
        "print_name('วัชรินทร์','คำบาง','6130209758')"
      ],
      "execution_count": null,
      "outputs": [
        {
          "output_type": "execute_result",
          "data": {
            "application/vnd.google.colaboratory.intrinsic+json": {
              "type": "string"
            },
            "text/plain": [
              "'ชื่อ วัชรินทร์ นามสกุล คำบาง รหัส 6130209758'"
            ]
          },
          "metadata": {
            "tags": []
          },
          "execution_count": 9
        }
      ]
    },
    {
      "cell_type": "code",
      "metadata": {
        "colab": {
          "base_uri": "https://localhost:8080/"
        },
        "id": "8EW1wR7GldAV",
        "outputId": "5135a218-544c-474e-ad45-74e49dce71b7"
      },
      "source": [
        "print(print_name(name='วัชรินทร์',surname='คำบาง',ID=6130209758))"
      ],
      "execution_count": null,
      "outputs": [
        {
          "output_type": "stream",
          "text": [
            "ชื่อ วัชรินทร์ นามสกุล คำบาง รหัส 6130209758\n"
          ],
          "name": "stdout"
        }
      ]
    },
    {
      "cell_type": "markdown",
      "metadata": {
        "id": "mrT1Zb7fpfcF"
      },
      "source": [
        "เราใช้ เว้นวรรค(indent)เพื่อบอกขอบเขตของโปรเเกรม"
      ]
    },
    {
      "cell_type": "markdown",
      "metadata": {
        "id": "MdPs6F2jqKMq"
      },
      "source": [
        "ฟังก์ชันไม่จำเป็นต้องมี output"
      ]
    },
    {
      "cell_type": "code",
      "metadata": {
        "id": "_4wUYD6bpKSx"
      },
      "source": [
        "def  print_name2(name,surname,ID):\r\n",
        "      st = f'ชื่อ {name} นามสกุล {surname} รหัส {ID}'\r\n",
        "      print(st)"
      ],
      "execution_count": null,
      "outputs": []
    },
    {
      "cell_type": "code",
      "metadata": {
        "colab": {
          "base_uri": "https://localhost:8080/"
        },
        "id": "PoKNZ5fMpKQK",
        "outputId": "cd32773f-0fa7-4fa0-bac9-64b6474c4779"
      },
      "source": [
        "print_name2(name='วัชรินทร์',surname='คำบาง',ID=6130209758)"
      ],
      "execution_count": null,
      "outputs": [
        {
          "output_type": "stream",
          "text": [
            "ชื่อ วัชรินทร์ นามสกุล คำบาง รหัส 6130209758\n"
          ],
          "name": "stdout"
        }
      ]
    },
    {
      "cell_type": "markdown",
      "metadata": {
        "id": "bo2LpPQYqaGC"
      },
      "source": [
        "ฟังก์ชันไม่จำเป็นต้องมี input"
      ]
    },
    {
      "cell_type": "code",
      "metadata": {
        "id": "9Q3bXOUypKNa"
      },
      "source": [
        "def Pi():\r\n",
        "    return 3.14159265359"
      ],
      "execution_count": null,
      "outputs": []
    },
    {
      "cell_type": "code",
      "metadata": {
        "colab": {
          "base_uri": "https://localhost:8080/"
        },
        "id": "fpUYWtKKpKKx",
        "outputId": "8221302b-b589-4646-ea85-5ac0b65cfe74"
      },
      "source": [
        "Pi()*(2**2) #หาพื้นทีวงกลมที่มีรัศมี Pi * r^2"
      ],
      "execution_count": null,
      "outputs": [
        {
          "output_type": "execute_result",
          "data": {
            "text/plain": [
              "12.56637061436"
            ]
          },
          "metadata": {
            "tags": []
          },
          "execution_count": 19
        }
      ]
    },
    {
      "cell_type": "markdown",
      "metadata": {
        "id": "IDIe5Xb1rcn7"
      },
      "source": [
        "เราสามารถกำหนดค่า default ให้กับฟังก์ชันได้ #default คือค่าเริ่มต้นที่กำหนดไว้เเละมีการเปลี่ยนเเปลงเกิดขึ้น"
      ]
    },
    {
      "cell_type": "code",
      "metadata": {
        "id": "RbaIhrSApKGq"
      },
      "source": [
        "def  print_2line_default(name,surname,ID,grade='F'):\r\n",
        "  st = f'ชื่อ {name} นามสกุล {surname} รหัส {ID}'\r\n",
        "  print(st)\r\n",
        "  st2=f'เกรดวิชา Data Viz >>> {grade}'\r\n",
        "  print(st2)"
      ],
      "execution_count": null,
      "outputs": []
    },
    {
      "cell_type": "code",
      "metadata": {
        "colab": {
          "base_uri": "https://localhost:8080/"
        },
        "id": "B1p5pPIppKEG",
        "outputId": "1f6b1fbe-4968-4860-bb42-ba3317e3cd4c"
      },
      "source": [
        "print_2line_default('วัชรินทร์','คำบาง','6130209758')"
      ],
      "execution_count": null,
      "outputs": [
        {
          "output_type": "stream",
          "text": [
            "ชื่อ วัชรินทร์ นามสกุล คำบาง รหัส 6130209758\n",
            "เกรดวิชา Data Viz >>> F\n"
          ],
          "name": "stdout"
        }
      ]
    },
    {
      "cell_type": "code",
      "metadata": {
        "colab": {
          "base_uri": "https://localhost:8080/"
        },
        "id": "ja1JkW8mpKBY",
        "outputId": "6f3095d7-2f5b-420e-c624-47fe1c0e2599"
      },
      "source": [
        "print_2line_default('วัชรินทร์','คำบาง','6130209758','A')"
      ],
      "execution_count": null,
      "outputs": [
        {
          "output_type": "stream",
          "text": [
            "ชื่อ วัชรินทร์ นามสกุล คำบาง รหัส 6130209758\n",
            "เกรดวิชา Data Viz >>> A\n"
          ],
          "name": "stdout"
        }
      ]
    },
    {
      "cell_type": "markdown",
      "metadata": {
        "id": "qwUHd5R10ipE"
      },
      "source": [
        "#Loop การวนซ้ำ"
      ]
    },
    {
      "cell_type": "markdown",
      "metadata": {
        "id": "xf_QT4e30rYm"
      },
      "source": [
        "for เป็นคำบอก prthon ว่าเรากำลังเขียน loop โดย for จะวนดึงสมาชิกจาก  listA มาทำ process do_someting"
      ]
    },
    {
      "cell_type": "code",
      "metadata": {
        "id": "1rWSeUYVpHmU"
      },
      "source": [
        "for each_member in listA :\r\n",
        "  do_something"
      ],
      "execution_count": null,
      "outputs": []
    },
    {
      "cell_type": "markdown",
      "metadata": {
        "id": "Vm6nwNvy1Kn7"
      },
      "source": [
        "คำสั่ง for เป็นคำสั่งวนซ้ำที่ใช้ควบคุมการทำงานวนซ้ำๆในจำนวนรอบที่เเน่นอน"
      ]
    },
    {
      "cell_type": "code",
      "metadata": {
        "colab": {
          "base_uri": "https://localhost:8080/"
        },
        "id": "OT-YirO_l80V",
        "outputId": "82702a9e-7e36-4b9e-e1e6-a2708f0dc2e9"
      },
      "source": [
        "for i in [1,2,3] :\r\n",
        "  o = i**2\r\n",
        "  print (f'this member = {i} after process = {o}')"
      ],
      "execution_count": null,
      "outputs": [
        {
          "output_type": "stream",
          "text": [
            "this member = 1 after process = 1\n",
            "this member = 2 after process = 4\n",
            "this member = 3 after process = 9\n"
          ],
          "name": "stdout"
        }
      ]
    },
    {
      "cell_type": "markdown",
      "metadata": {
        "id": "0eaiz0Dr29aC"
      },
      "source": [
        "### HW"
      ]
    },
    {
      "cell_type": "markdown",
      "metadata": {
        "id": "neHpye-23Nq8"
      },
      "source": [
        "ให้สร้าง list ของเวลา\r\n",
        "\r\n",
        "12:30:15\r\n",
        "\r\n",
        "13:41:07\r\n",
        "\r\n",
        "12:53:15\r\n",
        "\r\n",
        "00:59:25\r\n",
        "\r\n",
        "11:11:11\r\n",
        "\r\n",
        "16:06:09\r\n",
        "\r\n",
        "เเล้ววนลูปเรียกฟังก์ชันคำนวณเวลาเป็นวินาที\r\n",
        "*commit ว่า HW3"
      ]
    },
    {
      "cell_type": "code",
      "metadata": {
        "colab": {
          "base_uri": "https://localhost:8080/"
        },
        "id": "qG2z-pYG7Kw5",
        "outputId": "0df0e2dd-cb87-4339-8fe9-ad3cd2e91b8a"
      },
      "source": [
        "time1 =['12:30:15', '13:41:07', '12:53:15', '00:59:25', ('00:59:25'), ('11:11:11'), ('16:06:09')]\r\n",
        "for T in time1 :\r\n",
        "  tm = T.split(':')\r\n",
        "  total_sec = int(tm[0])*60*60+int(tm[1])*60+int(tm[2])\r\n",
        "  tt_sec = f' {T} = {total_sec} s'\r\n",
        "  print(tt_sec)\r\n"
      ],
      "execution_count": 53,
      "outputs": [
        {
          "output_type": "stream",
          "text": [
            " 12:30:15 = 45015 s\n",
            " 13:41:07 = 49267 s\n",
            " 12:53:15 = 46395 s\n",
            " 00:59:25 = 3565 s\n",
            " 00:59:25 = 3565 s\n",
            " 11:11:11 = 40271 s\n",
            " 16:06:09 = 57969 s\n"
          ],
          "name": "stdout"
        }
      ]
    }
  ]
}